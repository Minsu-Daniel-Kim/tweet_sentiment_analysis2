{
 "cells": [
  {
   "cell_type": "code",
   "execution_count": 1,
   "metadata": {
    "collapsed": true
   },
   "outputs": [],
   "source": [
    "%load_ext autoreload\n",
    "%autoreload 2"
   ]
  },
  {
   "cell_type": "code",
   "execution_count": 195,
   "metadata": {
    "collapsed": true
   },
   "outputs": [],
   "source": [
    "from sklearn import datasets\n",
    "from sklearn.cross_validation import train_test_split\n",
    "from sklearn.grid_search import GridSearchCV\n",
    "from sklearn.ensemble import RandomForestClassifier\n",
    "from sklearn.ensemble import ExtraTreesClassifier\n",
    "from sklearn.ensemble import GradientBoostingClassifier\n",
    "from sklearn.svm import SVC\n",
    "from sklearn import datasets\n",
    "from xgboost import XGBClassifier\n",
    "from sklearn.metrics import auc, accuracy_score, roc_auc_score\n",
    "import pickle\n",
    "from sklearn import metrics\n",
    "\n",
    "import pandas as pd\n",
    "import numpy as np\n",
    "import pickle\n",
    "import json\n",
    "\n",
    "from helpers.utils import load_data"
   ]
  },
  {
   "cell_type": "code",
   "execution_count": 2,
   "metadata": {
    "collapsed": true
   },
   "outputs": [],
   "source": [
    "X = np.load(\"data/MaskDataCorrected.npz\")['X'][()]\n",
    "Y = np.load(\"data/MaskDataCorrected.npz\")['y'][()]\n",
    "test_X = X[0:50000, :]\n",
    "train_X = X[50000:, :]\n",
    "train_Y = Y[50000:]"
   ]
  },
  {
   "cell_type": "code",
   "execution_count": 3,
   "metadata": {
    "collapsed": false
   },
   "outputs": [
    {
     "data": {
      "text/plain": [
       "(1578627, 1000)"
      ]
     },
     "execution_count": 3,
     "metadata": {},
     "output_type": "execute_result"
    }
   ],
   "source": [
    "X.shape"
   ]
  },
  {
   "cell_type": "code",
   "execution_count": 12,
   "metadata": {
    "collapsed": true
   },
   "outputs": [],
   "source": [
    "X = np.load(\"data/bagOfWods_5000.npz\")['X'][()]\n",
    "Y = np.load(\"data/bagOfWods_5000.npz\")['y'][()]\n",
    "test_X = X[0:50000, :]\n",
    "train_X = X[50000:, :]\n",
    "train_Y = Y[50000:]"
   ]
  },
  {
   "cell_type": "code",
   "execution_count": 13,
   "metadata": {
    "collapsed": false
   },
   "outputs": [
    {
     "data": {
      "text/plain": [
       "(1578627, 5000)"
      ]
     },
     "execution_count": 13,
     "metadata": {},
     "output_type": "execute_result"
    }
   ],
   "source": [
    "X.shape"
   ]
  },
  {
   "cell_type": "code",
   "execution_count": 11,
   "metadata": {
    "collapsed": false
   },
   "outputs": [
    {
     "data": {
      "text/plain": [
       "array([-1, -1, -1, ..., -1, -1,  0])"
      ]
     },
     "execution_count": 11,
     "metadata": {},
     "output_type": "execute_result"
    }
   ],
   "source": []
  },
  {
   "cell_type": "code",
   "execution_count": 583,
   "metadata": {
    "collapsed": true
   },
   "outputs": [],
   "source": [
    "X_train, X_test, y_train, y_test = train_test_split(train_X[:2000, :150], train_Y[:2000], test_size= 0.2, random_state= 0)"
   ]
  },
  {
   "cell_type": "code",
   "execution_count": 584,
   "metadata": {
    "collapsed": false
   },
   "outputs": [
    {
     "data": {
      "text/plain": [
       "(400, 150)"
      ]
     },
     "execution_count": 584,
     "metadata": {},
     "output_type": "execute_result"
    }
   ],
   "source": [
    "X_train.shape\n",
    "y_train.shape\n",
    "X_test.shape"
   ]
  },
  {
   "cell_type": "code",
   "execution_count": 585,
   "metadata": {
    "collapsed": false
   },
   "outputs": [],
   "source": [
    "dtrain = xgboost.DMatrix(X_train, label=y_train)\n",
    "num_round = 1000\n",
    "nfold = 15"
   ]
  },
  {
   "cell_type": "code",
   "execution_count": 586,
   "metadata": {
    "collapsed": false
   },
   "outputs": [],
   "source": [
    "param = {'bst:max_depth':11, 'bst:eta':0.05, 'silent':1, 'objective':'binary:logistic' }\n",
    "param['nthread'] = 8\n",
    "param['eval_metric'] = 'error'"
   ]
  },
  {
   "cell_type": "code",
   "execution_count": 587,
   "metadata": {
    "collapsed": false
   },
   "outputs": [],
   "source": [
    "result = xgboost.cv(param, dtrain, num_round, nfold=nfold,seed = 0)"
   ]
  },
  {
   "cell_type": "code",
   "execution_count": 588,
   "metadata": {
    "collapsed": false
   },
   "outputs": [
    {
     "data": {
      "text/html": [
       "<div>\n",
       "<table border=\"1\" class=\"dataframe\">\n",
       "  <thead>\n",
       "    <tr style=\"text-align: right;\">\n",
       "      <th></th>\n",
       "      <th>test-error-mean</th>\n",
       "      <th>test-error-std</th>\n",
       "      <th>train-error-mean</th>\n",
       "      <th>train-error-std</th>\n",
       "    </tr>\n",
       "  </thead>\n",
       "  <tbody>\n",
       "    <tr>\n",
       "      <th>0</th>\n",
       "      <td>0.376729</td>\n",
       "      <td>0.052296</td>\n",
       "      <td>0.272013</td>\n",
       "      <td>0.009617</td>\n",
       "    </tr>\n",
       "    <tr>\n",
       "      <th>1</th>\n",
       "      <td>0.375472</td>\n",
       "      <td>0.054814</td>\n",
       "      <td>0.263702</td>\n",
       "      <td>0.008966</td>\n",
       "    </tr>\n",
       "    <tr>\n",
       "      <th>2</th>\n",
       "      <td>0.377987</td>\n",
       "      <td>0.052068</td>\n",
       "      <td>0.258715</td>\n",
       "      <td>0.007404</td>\n",
       "    </tr>\n",
       "  </tbody>\n",
       "</table>\n",
       "</div>"
      ],
      "text/plain": [
       "   test-error-mean  test-error-std  train-error-mean  train-error-std\n",
       "0         0.376729        0.052296          0.272013         0.009617\n",
       "1         0.375472        0.054814          0.263702         0.008966\n",
       "2         0.377987        0.052068          0.258715         0.007404"
      ]
     },
     "execution_count": 588,
     "metadata": {},
     "output_type": "execute_result"
    }
   ],
   "source": [
    "result.head(3)"
   ]
  },
  {
   "cell_type": "code",
   "execution_count": 589,
   "metadata": {
    "collapsed": false
   },
   "outputs": [
    {
     "data": {
      "text/plain": [
       "180"
      ]
     },
     "execution_count": 589,
     "metadata": {},
     "output_type": "execute_result"
    }
   ],
   "source": [
    "idx = np.asscalar(np.argwhere(result[\"test-error-mean\"] == np.min(result[\"test-error-mean\"]))[0])\n",
    "idx"
   ]
  },
  {
   "cell_type": "code",
   "execution_count": 603,
   "metadata": {
    "collapsed": false
   },
   "outputs": [
    {
     "data": {
      "text/plain": [
       "{'learning_rate': [0.05],\n",
       " 'max_depth': [11],\n",
       " 'n_estimators': [280],\n",
       " 'nthread': [36],\n",
       " 'objective': ['binary:logistic']}"
      ]
     },
     "execution_count": 603,
     "metadata": {},
     "output_type": "execute_result"
    }
   ],
   "source": [
    "xgb_params = {'max_depth' : [11], 'learning_rate':[0.05],\n",
    "                 'n_estimators': [idx + 100],\n",
    "                  \"objective\": [\"binary:logistic\"], 'nthread' : [36]}\n",
    "xgb_params"
   ]
  },
  {
   "cell_type": "code",
   "execution_count": 604,
   "metadata": {
    "collapsed": false
   },
   "outputs": [],
   "source": [
    "xgb = XGBClassifier()\n",
    "grid = GridSearchCV(xgb, xgb_params, scoring='accuracy')"
   ]
  },
  {
   "cell_type": "code",
   "execution_count": 605,
   "metadata": {
    "collapsed": false
   },
   "outputs": [
    {
     "data": {
      "text/plain": [
       "GridSearchCV(cv=None, error_score='raise',\n",
       "       estimator=XGBClassifier(base_score=0.5, colsample_bylevel=1, colsample_bytree=1,\n",
       "       gamma=0, learning_rate=0.1, max_delta_step=0, max_depth=3,\n",
       "       min_child_weight=1, missing=None, n_estimators=100, nthread=-1,\n",
       "       objective='binary:logistic', reg_alpha=0, reg_lambda=1,\n",
       "       scale_pos_weight=1, seed=0, silent=True, subsample=1),\n",
       "       fit_params={}, iid=True, n_jobs=1,\n",
       "       param_grid={'n_estimators': [280], 'objective': ['binary:logistic'], 'learning_rate': [0.05], 'max_depth': [11], 'nthread': [36]},\n",
       "       pre_dispatch='2*n_jobs', refit=True, scoring='accuracy', verbose=0)"
      ]
     },
     "execution_count": 605,
     "metadata": {},
     "output_type": "execute_result"
    }
   ],
   "source": [
    "grid.fit(X_train, y_train)"
   ]
  },
  {
   "cell_type": "code",
   "execution_count": 606,
   "metadata": {
    "collapsed": false
   },
   "outputs": [],
   "source": [
    "result0 = grid.predict(X_test)"
   ]
  },
  {
   "cell_type": "code",
   "execution_count": 607,
   "metadata": {
    "collapsed": false
   },
   "outputs": [
    {
     "data": {
      "text/plain": [
       "0.63500000000000001"
      ]
     },
     "execution_count": 607,
     "metadata": {},
     "output_type": "execute_result"
    }
   ],
   "source": [
    "accuracy_score(y_test, result0)"
   ]
  },
  {
   "cell_type": "code",
   "execution_count": 311,
   "metadata": {
    "collapsed": false
   },
   "outputs": [
    {
     "data": {
      "text/plain": [
       "<xgboost.core.Booster at 0x1190abd10>"
      ]
     },
     "execution_count": 311,
     "metadata": {},
     "output_type": "execute_result"
    }
   ],
   "source": [
    "model = xgboost.train(param, dtrain, 150)\n",
    "model"
   ]
  },
  {
   "cell_type": "code",
   "execution_count": 312,
   "metadata": {
    "collapsed": false
   },
   "outputs": [],
   "source": [
    "pred = model.predict(xgboost.DMatrix(X_test))\n",
    "\n",
    "fpr, tpr, thresholds = metrics.roc_curve(y_test, pred, pos_label=1)"
   ]
  },
  {
   "cell_type": "code",
   "execution_count": 313,
   "metadata": {
    "collapsed": false
   },
   "outputs": [
    {
     "data": {
      "text/plain": [
       "0.75578947368421046"
      ]
     },
     "execution_count": 313,
     "metadata": {},
     "output_type": "execute_result"
    }
   ],
   "source": [
    "metrics.auc(fpr, tpr)"
   ]
  },
  {
   "cell_type": "code",
   "execution_count": 314,
   "metadata": {
    "collapsed": false
   },
   "outputs": [],
   "source": [
    "result = [1 if item >= 0.50 else 0 for item in pred]"
   ]
  },
  {
   "cell_type": "code",
   "execution_count": 315,
   "metadata": {
    "collapsed": false
   },
   "outputs": [
    {
     "data": {
      "text/plain": [
       "0.69499999999999995"
      ]
     },
     "execution_count": 315,
     "metadata": {},
     "output_type": "execute_result"
    }
   ],
   "source": [
    "accuracy = accuracy_score(y_test, result)\n",
    "accuracy"
   ]
  },
  {
   "cell_type": "code",
   "execution_count": 79,
   "metadata": {
    "collapsed": false
   },
   "outputs": [
    {
     "data": {
      "text/plain": [
       "0.67556050000000001"
      ]
     },
     "execution_count": 79,
     "metadata": {},
     "output_type": "execute_result"
    }
   ],
   "source": [
    "np.max(result[\"test-auc-mean\"])"
   ]
  },
  {
   "cell_type": "code",
   "execution_count": 20,
   "metadata": {
    "collapsed": false
   },
   "outputs": [],
   "source": [
    "xgb_params = {'max_depth' : 11, \"objective\": \"binary:logistic\",\n",
    "                       'subsample' : 0.05, 'colsample_bytree': 0.6,\n",
    "                       'n_estimators' : 1000,'learning_rate' : 0.1, 'gamma':0}"
   ]
  },
  {
   "cell_type": "code",
   "execution_count": 21,
   "metadata": {
    "collapsed": false
   },
   "outputs": [
    {
     "ename": "TypeError",
     "evalue": "cv() takes at least 2 arguments (1 given)",
     "output_type": "error",
     "traceback": [
      "\u001b[0;31m---------------------------------------------------------------------------\u001b[0m",
      "\u001b[0;31mTypeError\u001b[0m                                 Traceback (most recent call last)",
      "\u001b[0;32m<ipython-input-21-984eca89ba2a>\u001b[0m in \u001b[0;36m<module>\u001b[0;34m()\u001b[0m\n\u001b[0;32m----> 1\u001b[0;31m \u001b[0mxgboost\u001b[0m\u001b[0;34m.\u001b[0m\u001b[0mcv\u001b[0m\u001b[0;34m(\u001b[0m\u001b[0mxgb_params\u001b[0m\u001b[0;34m)\u001b[0m\u001b[0;34m\u001b[0m\u001b[0m\n\u001b[0m",
      "\u001b[0;31mTypeError\u001b[0m: cv() takes at least 2 arguments (1 given)"
     ]
    }
   ],
   "source": [
    "xgboost.cv(xgb_params)"
   ]
  },
  {
   "cell_type": "code",
   "execution_count": 139,
   "metadata": {
    "collapsed": true
   },
   "outputs": [],
   "source": [
    "xgb_params = {'max_depth' : [11], \"objective\": [\"binary:logistic\"],\n",
    "                       'subsample' : [0.05, 0.1], 'colsample_bytree': [0.6],\n",
    "                       'n_estimators' : [1000],'learning_rate' : [0.05, 0.1], 'gamma':[0]}\n",
    "xgb = XGBClassifier()\n",
    "grid = GridSearchCV(xgb, xgb_params, scoring='roc_auc', cv = 15, n_jobs=-1)"
   ]
  },
  {
   "cell_type": "code",
   "execution_count": 140,
   "metadata": {
    "collapsed": false
   },
   "outputs": [
    {
     "ename": "AttributeError",
     "evalue": "'GridSearchCV' object has no attribute 'best_score_'",
     "output_type": "error",
     "traceback": [
      "\u001b[0;31m---------------------------------------------------------------------------\u001b[0m",
      "\u001b[0;31mAttributeError\u001b[0m                            Traceback (most recent call last)",
      "\u001b[0;32m<ipython-input-140-9f568b257f65>\u001b[0m in \u001b[0;36m<module>\u001b[0;34m()\u001b[0m\n\u001b[0;32m----> 1\u001b[0;31m \u001b[0mgrid\u001b[0m\u001b[0;34m.\u001b[0m\u001b[0mbest_score_\u001b[0m\u001b[0;34m\u001b[0m\u001b[0m\n\u001b[0m",
      "\u001b[0;31mAttributeError\u001b[0m: 'GridSearchCV' object has no attribute 'best_score_'"
     ]
    }
   ],
   "source": [
    "grid.best_score_"
   ]
  },
  {
   "cell_type": "code",
   "execution_count": 238,
   "metadata": {
    "collapsed": false
   },
   "outputs": [
    {
     "data": {
      "text/plain": [
       "GridSearchCV(cv=15, error_score='raise',\n",
       "       estimator=XGBClassifier(base_score=0.5, colsample_bylevel=1, colsample_bytree=1,\n",
       "       gamma=0, learning_rate=0.1, max_delta_step=0, max_depth=3,\n",
       "       min_child_weight=1, missing=None, n_estimators=100, nthread=-1,\n",
       "       objective='binary:logistic', reg_alpha=0, reg_lambda=1,\n",
       "       scale_pos_weight=1, seed=0, silent=True, subsample=1),\n",
       "       fit_params={}, iid=True, n_jobs=-1,\n",
       "       param_grid={'colsample_bytree': [0.6], 'learning_rate': [0.05, 0.1], 'n_estimators': [1000], 'subsample': [0.05, 0.1], 'objective': ['binary:logistic'], 'max_depth': [11], 'gamma': [0]},\n",
       "       pre_dispatch='2*n_jobs', refit=True, scoring='roc_auc', verbose=0)"
      ]
     },
     "execution_count": 238,
     "metadata": {},
     "output_type": "execute_result"
    }
   ],
   "source": [
    "grid.fit(X_train, y_train)"
   ]
  },
  {
   "cell_type": "code",
   "execution_count": 243,
   "metadata": {
    "collapsed": true
   },
   "outputs": [],
   "source": [
    "output = open(\"cache/xgboost_grid.pkl\", 'wb')\n",
    "pickle.dump(grid, output)\n",
    "output.close()"
   ]
  },
  {
   "cell_type": "code",
   "execution_count": 244,
   "metadata": {
    "collapsed": true
   },
   "outputs": [],
   "source": [
    "# pkl = open(\"model.pkl\", 'rb')\n",
    "# grid2 = pickle.load(pkl)\n",
    "# pkl.close()"
   ]
  },
  {
   "cell_type": "code",
   "execution_count": 247,
   "metadata": {
    "collapsed": false
   },
   "outputs": [
    {
     "data": {
      "text/plain": [
       "XGBClassifier(base_score=0.5, colsample_bylevel=1, colsample_bytree=0.6,\n",
       "       gamma=0, learning_rate=0.05, max_delta_step=0, max_depth=11,\n",
       "       min_child_weight=1, missing=nan, n_estimators=1000, nthread=-1,\n",
       "       objective='binary:logistic', reg_alpha=0, reg_lambda=1,\n",
       "       scale_pos_weight=1, seed=0, silent=True, subsample=0.1)"
      ]
     },
     "execution_count": 247,
     "metadata": {},
     "output_type": "execute_result"
    }
   ],
   "source": [
    "best_estimator = grid2.best_estimator_\n",
    "best_estimator"
   ]
  },
  {
   "cell_type": "code",
   "execution_count": 248,
   "metadata": {
    "collapsed": false
   },
   "outputs": [
    {
     "data": {
      "text/plain": [
       "0.60125623219373225"
      ]
     },
     "execution_count": 248,
     "metadata": {},
     "output_type": "execute_result"
    }
   ],
   "source": [
    "score = grid.best_score_\n",
    "score"
   ]
  },
  {
   "cell_type": "code",
   "execution_count": 249,
   "metadata": {
    "collapsed": true
   },
   "outputs": [],
   "source": [
    "best_params = grid.best_params_"
   ]
  },
  {
   "cell_type": "code",
   "execution_count": 234,
   "metadata": {
    "collapsed": true
   },
   "outputs": [],
   "source": [
    "result = grid.best_estimator_.predict(X_test)"
   ]
  },
  {
   "cell_type": "code",
   "execution_count": 250,
   "metadata": {
    "collapsed": true
   },
   "outputs": [],
   "source": [
    "accuracy = accuracy_score(y_test, result)"
   ]
  },
  {
   "cell_type": "code",
   "execution_count": 252,
   "metadata": {
    "collapsed": true
   },
   "outputs": [],
   "source": [
    "report = {\n",
    "    \"best_estimator\" : predictions,\n",
    "    \"best_score\" : score,\n",
    "    \"best_params\" : best_params,\n",
    "    \"accuracy\" : accuracy\n",
    "}"
   ]
  },
  {
   "cell_type": "code",
   "execution_count": 256,
   "metadata": {
    "collapsed": true
   },
   "outputs": [],
   "source": [
    "report_str = str(report)"
   ]
  },
  {
   "cell_type": "code",
   "execution_count": 258,
   "metadata": {
    "collapsed": true
   },
   "outputs": [],
   "source": [
    "with open(\"report/report.json\", \"w\") as outfile:\n",
    "    json.dump(report_str, outfile)"
   ]
  },
  {
   "cell_type": "code",
   "execution_count": 262,
   "metadata": {
    "collapsed": true
   },
   "outputs": [],
   "source": [
    "test_result = grid.best_estimator_.predict(test_X)"
   ]
  },
  {
   "cell_type": "code",
   "execution_count": 263,
   "metadata": {
    "collapsed": false
   },
   "outputs": [
    {
     "data": {
      "text/plain": [
       "(50000,)"
      ]
     },
     "execution_count": 263,
     "metadata": {},
     "output_type": "execute_result"
    }
   ],
   "source": [
    "submission = pd.DataFrame({'id': np.arange(1, 50001), 'y': test_result})\n",
    "submission.to_csv(\"submission/filename.csv\", index = False)"
   ]
  },
  {
   "cell_type": "code",
   "execution_count": 266,
   "metadata": {
    "collapsed": false
   },
   "outputs": [
    {
     "data": {
      "text/plain": [
       "array([    1,     2,     3, ..., 49998, 49999, 50000])"
      ]
     },
     "execution_count": 266,
     "metadata": {},
     "output_type": "execute_result"
    }
   ],
   "source": [
    "np.arange(1, 50000 + 1)"
   ]
  },
  {
   "cell_type": "code",
   "execution_count": null,
   "metadata": {
    "collapsed": true
   },
   "outputs": [],
   "source": []
  },
  {
   "cell_type": "code",
   "execution_count": 18,
   "metadata": {
    "collapsed": true
   },
   "outputs": [],
   "source": [
    "models = {\n",
    "#     'RandomForestClassifier' : RandomForestClassifier(),\n",
    "#     'GradientBoostingClassifier' : GradientBoostingClassifier(),\n",
    "    'XGBClassifier' : XGBClassifier()\n",
    "\n",
    "}"
   ]
  },
  {
   "cell_type": "code",
   "execution_count": 19,
   "metadata": {
    "collapsed": true
   },
   "outputs": [],
   "source": [
    "random_state = 30"
   ]
  },
  {
   "cell_type": "code",
   "execution_count": 38,
   "metadata": {
    "collapsed": true
   },
   "outputs": [],
   "source": [
    "#     'RandomForestClassifier' : {'n_estimators': [500, 600], 'criterion': ['gini', 'entropy'], 'max_depth' : [15, 20, 25]},\n",
    "#     'ExtraTreesClassifier' : {'n_estimators': [500, 600], 'criterion': ['gini', 'entropy'], 'max_depth' : [15, 20, 25]},\n",
    "#     'AdaBoostClassifier' : {'n_estimator': [1000, 2000], 'learning_rate': [0.1, 0.2]},\n",
    "xgb_params = {'max_depth' : [11], \"objective\": [\"binary:logistic\"],\n",
    "                       'subsample' : [0.05, 0.1], 'colsample_bytree': [0.6],\n",
    "                       'n_estimators' : [1000],'learning_rate' : [0.1, 0.2], 'gamma':[0]}\n",
    "#     ,\n",
    "#     'GradientBoostingClassifier' : {'max_depth' : [7, 10],\n",
    "#                        'n_estimators' : [1000, 2000],'learning_rate' : [0.1, 0.2]},\n",
    "#     'SVC' : {'kernel':('linear', 'rbf'), 'C':[1, 5, 10]}"
   ]
  },
  {
   "cell_type": "code",
   "execution_count": 36,
   "metadata": {
    "collapsed": true
   },
   "outputs": [],
   "source": []
  },
  {
   "cell_type": "code",
   "execution_count": 47,
   "metadata": {
    "collapsed": true
   },
   "outputs": [],
   "source": []
  },
  {
   "cell_type": "code",
   "execution_count": 55,
   "metadata": {
    "collapsed": false
   },
   "outputs": [
    {
     "name": "stdout",
     "output_type": "stream",
     "text": [
      "Fitting 10 folds for each of 4 candidates, totalling 40 fits\n",
      "[CV] colsample_bytree=0.6, learning_rate=0.1, n_estimators=1000, subsample=0.05, objective=binary:logistic, max_depth=11, gamma=0 \n",
      "[CV] colsample_bytree=0.6, learning_rate=0.1, n_estimators=1000, subsample=0.05, objective=binary:logistic, max_depth=11, gamma=0 \n",
      "[CV] colsample_bytree=0.6, learning_rate=0.1, n_estimators=1000, subsample=0.05, objective=binary:logistic, max_depth=11, gamma=0 \n",
      "[CV] colsample_bytree=0.6, learning_rate=0.1, n_estimators=1000, subsample=0.05, objective=binary:logistic, max_depth=11, gamma=0 \n",
      "[CV] colsample_bytree=0.6, learning_rate=0.1, n_estimators=1000, subsample=0.05, objective=binary:logistic, max_depth=11, gamma=0 \n",
      "[CV] colsample_bytree=0.6, learning_rate=0.1, n_estimators=1000, subsample=0.05, objective=binary:logistic, max_depth=11, gamma=0 \n",
      "[CV] colsample_bytree=0.6, learning_rate=0.1, n_estimators=1000, subsample=0.05, objective=binary:logistic, max_depth=11, gamma=0 \n",
      "[CV] colsample_bytree=0.6, learning_rate=0.1, n_estimators=1000, subsample=0.05, objective=binary:logistic, max_depth=11, gamma=0 \n",
      "[CV]  colsample_bytree=0.6, learning_rate=0.1, n_estimators=1000, subsample=0.05, objective=binary:logistic, max_depth=11, gamma=0, score=0.599608 -   0.2s\n",
      "[CV]  colsample_bytree=0.6, learning_rate=0.1, n_estimators=1000, subsample=0.05, objective=binary:logistic, max_depth=11, gamma=0, score=0.594706 -   0.2s\n",
      "[CV] colsample_bytree=0.6, learning_rate=0.1, n_estimators=1000, subsample=0.05, objective=binary:logistic, max_depth=11, gamma=0 \n",
      "[CV] colsample_bytree=0.6, learning_rate=0.1, n_estimators=1000, subsample=0.05, objective=binary:logistic, max_depth=11, gamma=0 \n",
      "[CV]  colsample_bytree=0.6, learning_rate=0.1, n_estimators=1000, subsample=0.05, objective=binary:logistic, max_depth=11, gamma=0, score=0.600200 -   0.2s\n",
      "[CV] colsample_bytree=0.6, learning_rate=0.1, n_estimators=1000, subsample=0.1, objective=binary:logistic, max_depth=11, gamma=0 \n",
      "[CV]  colsample_bytree=0.6, learning_rate=0.1, n_estimators=1000, subsample=0.05, objective=binary:logistic, max_depth=11, gamma=0, score=0.661800 -   0.2s\n",
      "[CV]  colsample_bytree=0.6, learning_rate=0.1, n_estimators=1000, subsample=0.05, objective=binary:logistic, max_depth=11, gamma=0, score=0.483400 -   0.2s\n",
      "[CV]  colsample_bytree=0.6, learning_rate=0.1, n_estimators=1000, subsample=0.05, objective=binary:logistic, max_depth=11, gamma=0, score=0.583400 -   0.2s\n",
      "[CV]  colsample_bytree=0.6, learning_rate=0.1, n_estimators=1000, subsample=0.05, objective=binary:logistic, max_depth=11, gamma=0, score=0.628000 -   0.2s\n",
      "[CV] colsample_bytree=0.6, learning_rate=0.1, n_estimators=1000, subsample=0.1, objective=binary:logistic, max_depth=11, gamma=0 \n",
      "[CV] colsample_bytree=0.6, learning_rate=0.1, n_estimators=1000, subsample=0.1, objective=binary:logistic, max_depth=11, gamma=0 \n",
      "[CV] colsample_bytree=0.6, learning_rate=0.1, n_estimators=1000, subsample=0.1, objective=binary:logistic, max_depth=11, gamma=0 \n",
      "[CV] colsample_bytree=0.6, learning_rate=0.1, n_estimators=1000, subsample=0.1, objective=binary:logistic, max_depth=11, gamma=0 \n",
      "[CV]  colsample_bytree=0.6, learning_rate=0.1, n_estimators=1000, subsample=0.05, objective=binary:logistic, max_depth=11, gamma=0, score=0.647200 -   0.2s\n",
      "[CV] colsample_bytree=0.6, learning_rate=0.1, n_estimators=1000, subsample=0.1, objective=binary:logistic, max_depth=11, gamma=0 \n"
     ]
    },
    {
     "name": "stderr",
     "output_type": "stream",
     "text": [
      "[Parallel(n_jobs=-1)]: Batch computation too fast (0.1980s.) Setting batch_size=2.\n",
      "[Parallel(n_jobs=-1)]: Done   2 tasks      | elapsed:    0.2s\n"
     ]
    },
    {
     "name": "stdout",
     "output_type": "stream",
     "text": [
      "[CV]  colsample_bytree=0.6, learning_rate=0.1, n_estimators=1000, subsample=0.05, objective=binary:logistic, max_depth=11, gamma=0, score=0.614898 -   0.2s\n",
      "[CV]  colsample_bytree=0.6, learning_rate=0.1, n_estimators=1000, subsample=0.05, objective=binary:logistic, max_depth=11, gamma=0, score=0.642245 -   0.2s\n",
      "[CV] colsample_bytree=0.6, learning_rate=0.1, n_estimators=1000, subsample=0.1, objective=binary:logistic, max_depth=11, gamma=0 \n",
      "[CV] colsample_bytree=0.6, learning_rate=0.1, n_estimators=1000, subsample=0.1, objective=binary:logistic, max_depth=11, gamma=0 \n",
      "[CV]  colsample_bytree=0.6, learning_rate=0.1, n_estimators=1000, subsample=0.1, objective=binary:logistic, max_depth=11, gamma=0, score=0.611765 -   0.2s\n",
      "[CV]  colsample_bytree=0.6, learning_rate=0.1, n_estimators=1000, subsample=0.1, objective=binary:logistic, max_depth=11, gamma=0, score=0.604118 -   0.2s\n",
      "[CV] colsample_bytree=0.6, learning_rate=0.2, n_estimators=1000, subsample=0.05, objective=binary:logistic, max_depth=11, gamma=0 \n",
      "[CV] colsample_bytree=0.6, learning_rate=0.2, n_estimators=1000, subsample=0.05, objective=binary:logistic, max_depth=11, gamma=0 \n",
      "[CV]  colsample_bytree=0.6, learning_rate=0.1, n_estimators=1000, subsample=0.1, objective=binary:logistic, max_depth=11, gamma=0, score=0.609800 -   0.2s\n",
      "[CV]  colsample_bytree=0.6, learning_rate=0.1, n_estimators=1000, subsample=0.1, objective=binary:logistic, max_depth=11, gamma=0, score=0.625400 -   0.2s\n",
      "[CV] colsample_bytree=0.6, learning_rate=0.2, n_estimators=1000, subsample=0.05, objective=binary:logistic, max_depth=11, gamma=0 \n",
      "[CV]  colsample_bytree=0.6, learning_rate=0.1, n_estimators=1000, subsample=0.1, objective=binary:logistic, max_depth=11, gamma=0, score=0.667800 -   0.2s\n",
      "[CV] colsample_bytree=0.6, learning_rate=0.2, n_estimators=1000, subsample=0.05, objective=binary:logistic, max_depth=11, gamma=0 \n",
      "[CV] colsample_bytree=0.6, learning_rate=0.2, n_estimators=1000, subsample=0.05, objective=binary:logistic, max_depth=11, gamma=0 \n",
      "[CV]  colsample_bytree=0.6, learning_rate=0.1, n_estimators=1000, subsample=0.1, objective=binary:logistic, max_depth=11, gamma=0, score=0.511800 -   0.2s\n",
      "[CV] colsample_bytree=0.6, learning_rate=0.2, n_estimators=1000, subsample=0.1, objective=binary:logistic, max_depth=11, gamma=0 \n"
     ]
    },
    {
     "name": "stderr",
     "output_type": "stream",
     "text": [
      "[Parallel(n_jobs=-1)]: Done   9 tasks      | elapsed:    0.4s\n"
     ]
    },
    {
     "name": "stdout",
     "output_type": "stream",
     "text": [
      "[CV]  colsample_bytree=0.6, learning_rate=0.2, n_estimators=1000, subsample=0.05, objective=binary:logistic, max_depth=11, gamma=0, score=0.491373 -   0.2s\n",
      "[CV]  colsample_bytree=0.6, learning_rate=0.1, n_estimators=1000, subsample=0.1, objective=binary:logistic, max_depth=11, gamma=0, score=0.597347 -   0.2s\n",
      "[CV]  colsample_bytree=0.6, learning_rate=0.1, n_estimators=1000, subsample=0.1, objective=binary:logistic, max_depth=11, gamma=0, score=0.644400 -   0.2s\n",
      "[CV] colsample_bytree=0.6, learning_rate=0.2, n_estimators=1000, subsample=0.05, objective=binary:logistic, max_depth=11, gamma=0 \n",
      "[CV] colsample_bytree=0.6, learning_rate=0.1, n_estimators=1000, subsample=0.1, objective=binary:logistic, max_depth=11, gamma=0 \n",
      "[CV] colsample_bytree=0.6, learning_rate=0.1, n_estimators=1000, subsample=0.1, objective=binary:logistic, max_depth=11, gamma=0 \n",
      "[CV]  colsample_bytree=0.6, learning_rate=0.2, n_estimators=1000, subsample=0.05, objective=binary:logistic, max_depth=11, gamma=0, score=0.654200 -   0.2s\n",
      "[CV] colsample_bytree=0.6, learning_rate=0.2, n_estimators=1000, subsample=0.05, objective=binary:logistic, max_depth=11, gamma=0 \n",
      "[CV]  colsample_bytree=0.6, learning_rate=0.2, n_estimators=1000, subsample=0.05, objective=binary:logistic, max_depth=11, gamma=0, score=0.589000 -   0.2s\n",
      "[CV]  colsample_bytree=0.6, learning_rate=0.2, n_estimators=1000, subsample=0.05, objective=binary:logistic, max_depth=11, gamma=0, score=0.638000 -   0.2s\n",
      "[CV] colsample_bytree=0.6, learning_rate=0.2, n_estimators=1000, subsample=0.05, objective=binary:logistic, max_depth=11, gamma=0 \n",
      "[CV] colsample_bytree=0.6, learning_rate=0.2, n_estimators=1000, subsample=0.05, objective=binary:logistic, max_depth=11, gamma=0 \n",
      "[CV]  colsample_bytree=0.6, learning_rate=0.2, n_estimators=1000, subsample=0.05, objective=binary:logistic, max_depth=11, gamma=0, score=0.598571 -   0.2s\n",
      "[CV] colsample_bytree=0.6, learning_rate=0.2, n_estimators=1000, subsample=0.05, objective=binary:logistic, max_depth=11, gamma=0 \n",
      "[CV]  colsample_bytree=0.6, learning_rate=0.2, n_estimators=1000, subsample=0.1, objective=binary:logistic, max_depth=11, gamma=0, score=0.620784 -   0.2s\n",
      "[CV] colsample_bytree=0.6, learning_rate=0.2, n_estimators=1000, subsample=0.1, objective=binary:logistic, max_depth=11, gamma=0 \n",
      "[CV]  colsample_bytree=0.6, learning_rate=0.2, n_estimators=1000, subsample=0.05, objective=binary:logistic, max_depth=11, gamma=0, score=0.581373 -   0.2s\n",
      "[CV]  colsample_bytree=0.6, learning_rate=0.2, n_estimators=1000, subsample=0.05, objective=binary:logistic, max_depth=11, gamma=0, score=0.619400 -   0.2s\n",
      "[CV] colsample_bytree=0.6, learning_rate=0.2, n_estimators=1000, subsample=0.1, objective=binary:logistic, max_depth=11, gamma=0 \n",
      "[CV] colsample_bytree=0.6, learning_rate=0.2, n_estimators=1000, subsample=0.1, objective=binary:logistic, max_depth=11, gamma=0 \n",
      "[CV]  colsample_bytree=0.6, learning_rate=0.1, n_estimators=1000, subsample=0.1, objective=binary:logistic, max_depth=11, gamma=0, score=0.626400 -   0.2s\n",
      "[CV]  colsample_bytree=0.6, learning_rate=0.1, n_estimators=1000, subsample=0.1, objective=binary:logistic, max_depth=11, gamma=0, score=0.606735 -   0.2s\n",
      "[CV] colsample_bytree=0.6, learning_rate=0.2, n_estimators=1000, subsample=0.1, objective=binary:logistic, max_depth=11, gamma=0 \n",
      "[CV]  colsample_bytree=0.6, learning_rate=0.2, n_estimators=1000, subsample=0.05, objective=binary:logistic, max_depth=11, gamma=0, score=0.631600 -   0.2s\n",
      "[CV] colsample_bytree=0.6, learning_rate=0.2, n_estimators=1000, subsample=0.1, objective=binary:logistic, max_depth=11, gamma=0 \n",
      "[CV]  colsample_bytree=0.6, learning_rate=0.2, n_estimators=1000, subsample=0.05, objective=binary:logistic, max_depth=11, gamma=0, score=0.475400 -   0.2s\n",
      "[CV]  colsample_bytree=0.6, learning_rate=0.2, n_estimators=1000, subsample=0.05, objective=binary:logistic, max_depth=11, gamma=0, score=0.611224 -   0.2s\n",
      "[CV]  colsample_bytree=0.6, learning_rate=0.2, n_estimators=1000, subsample=0.1, objective=binary:logistic, max_depth=11, gamma=0, score=0.604510 -   0.2s\n",
      "[CV]  colsample_bytree=0.6, learning_rate=0.2, n_estimators=1000, subsample=0.1, objective=binary:logistic, max_depth=11, gamma=0, score=0.657800 -   0.1s\n",
      "[CV] colsample_bytree=0.6, learning_rate=0.2, n_estimators=1000, subsample=0.1, objective=binary:logistic, max_depth=11, gamma=0 \n",
      "[CV]  colsample_bytree=0.6, learning_rate=0.2, n_estimators=1000, subsample=0.1, objective=binary:logistic, max_depth=11, gamma=0, score=0.609800 -   0.1s\n",
      "[CV] colsample_bytree=0.6, learning_rate=0.2, n_estimators=1000, subsample=0.1, objective=binary:logistic, max_depth=11, gamma=0 \n",
      "[CV]  colsample_bytree=0.6, learning_rate=0.2, n_estimators=1000, subsample=0.1, objective=binary:logistic, max_depth=11, gamma=0, score=0.644800 -   0.1s\n",
      "[CV] colsample_bytree=0.6, learning_rate=0.2, n_estimators=1000, subsample=0.1, objective=binary:logistic, max_depth=11, gamma=0 \n",
      "[CV]  colsample_bytree=0.6, learning_rate=0.2, n_estimators=1000, subsample=0.1, objective=binary:logistic, max_depth=11, gamma=0, score=0.584286 -   0.1s\n",
      "[CV] colsample_bytree=0.6, learning_rate=0.2, n_estimators=1000, subsample=0.1, objective=binary:logistic, max_depth=11, gamma=0 \n",
      "[CV]  colsample_bytree=0.6, learning_rate=0.2, n_estimators=1000, subsample=0.1, objective=binary:logistic, max_depth=11, gamma=0, score=0.600200 -   0.1s\n",
      "[CV]  colsample_bytree=0.6, learning_rate=0.2, n_estimators=1000, subsample=0.1, objective=binary:logistic, max_depth=11, gamma=0, score=0.491800 -   0.1s\n",
      "[CV]  colsample_bytree=0.6, learning_rate=0.2, n_estimators=1000, subsample=0.1, objective=binary:logistic, max_depth=11, gamma=0, score=0.626400 -   0.1s\n",
      "[CV]  colsample_bytree=0.6, learning_rate=0.2, n_estimators=1000, subsample=0.1, objective=binary:logistic, max_depth=11, gamma=0, score=0.606735 -   0.1s\n"
     ]
    },
    {
     "name": "stderr",
     "output_type": "stream",
     "text": [
      "[Parallel(n_jobs=-1)]: Done  40 out of  40 | elapsed:    1.1s finished\n"
     ]
    },
    {
     "data": {
      "text/plain": [
       "GridSearchCV(cv=10, error_score='raise',\n",
       "       estimator=XGBClassifier(base_score=0.5, colsample_bylevel=1, colsample_bytree=1,\n",
       "       gamma=0, learning_rate=0.1, max_delta_step=0, max_depth=3,\n",
       "       min_child_weight=1, missing=None, n_estimators=100, nthread=-1,\n",
       "       objective='binary:logistic', reg_alpha=0, reg_lambda=1,\n",
       "       scale_pos_weight=1, seed=0, silent=True, subsample=1),\n",
       "       fit_params={}, iid=True, n_jobs=-1,\n",
       "       param_grid={'colsample_bytree': [0.6], 'learning_rate': [0.1, 0.2], 'n_estimators': [1000], 'subsample': [0.05, 0.1], 'objective': ['binary:logistic'], 'max_depth': [11], 'gamma': [0]},\n",
       "       pre_dispatch='2*n_jobs', refit=True, scoring='roc_auc', verbose=10)"
      ]
     },
     "execution_count": 55,
     "metadata": {},
     "output_type": "execute_result"
    }
   ],
   "source": []
  },
  {
   "cell_type": "code",
   "execution_count": 56,
   "metadata": {
    "collapsed": false
   },
   "outputs": [
    {
     "name": "stdout",
     "output_type": "stream",
     "text": [
      "XGBClassifier(base_score=0.5, colsample_bylevel=1, colsample_bytree=0.6,\n",
      "       gamma=0, learning_rate=0.1, max_delta_step=0, max_depth=11,\n",
      "       min_child_weight=1, missing=None, n_estimators=1000, nthread=-1,\n",
      "       objective='binary:logistic', reg_alpha=0, reg_lambda=1,\n",
      "       scale_pos_weight=1, seed=0, silent=True, subsample=0.1)\n"
     ]
    }
   ],
   "source": [
    "print(predictions)"
   ]
  },
  {
   "cell_type": "code",
   "execution_count": 57,
   "metadata": {
    "collapsed": true
   },
   "outputs": [],
   "source": []
  },
  {
   "cell_type": "code",
   "execution_count": 58,
   "metadata": {
    "collapsed": false
   },
   "outputs": [
    {
     "name": "stdout",
     "output_type": "stream",
     "text": [
      "0.61056819928\n"
     ]
    }
   ],
   "source": [
    "print(score)"
   ]
  },
  {
   "cell_type": "code",
   "execution_count": 72,
   "metadata": {
    "collapsed": true
   },
   "outputs": [],
   "source": [
    "try:\n",
    "    with open(\"saved_params.json\") as f:\n",
    "        saved_params = json.load(f)\n",
    "except IOError:\n",
    "    saved_params = {}"
   ]
  },
  {
   "cell_type": "code",
   "execution_count": 24,
   "metadata": {
    "collapsed": false
   },
   "outputs": [
    {
     "name": "stdout",
     "output_type": "stream",
     "text": [
      "running XGBClassifier\n"
     ]
    },
    {
     "ename": "JoblibValueError",
     "evalue": "JoblibValueError\n___________________________________________________________________________\nMultiprocessing exception:\n...........................................................................\n/Library/Frameworks/Python.framework/Versions/2.7/lib/python2.7/runpy.py in _run_module_as_main(mod_name='ipykernel.__main__', alter_argv=1)\n    157     pkg_name = mod_name.rpartition('.')[0]\n    158     main_globals = sys.modules[\"__main__\"].__dict__\n    159     if alter_argv:\n    160         sys.argv[0] = fname\n    161     return _run_code(code, main_globals, None,\n--> 162                      \"__main__\", fname, loader, pkg_name)\n        fname = '/Library/Frameworks/Python.framework/Versions/2.7/lib/python2.7/site-packages/ipykernel/__main__.py'\n        loader = <pkgutil.ImpLoader instance>\n        pkg_name = 'ipykernel'\n    163 \n    164 def run_module(mod_name, init_globals=None,\n    165                run_name=None, alter_sys=False):\n    166     \"\"\"Execute a module's code without importing it\n\n...........................................................................\n/Library/Frameworks/Python.framework/Versions/2.7/lib/python2.7/runpy.py in _run_code(code=<code object <module> at 0x103426330, file \"/Lib...2.7/site-packages/ipykernel/__main__.py\", line 1>, run_globals={'__builtins__': <module '__builtin__' (built-in)>, '__doc__': None, '__file__': '/Library/Frameworks/Python.framework/Versions/2.7/lib/python2.7/site-packages/ipykernel/__main__.py', '__loader__': <pkgutil.ImpLoader instance>, '__name__': '__main__', '__package__': 'ipykernel', 'app': <module 'ipykernel.kernelapp' from '/Library/Fra...python2.7/site-packages/ipykernel/kernelapp.pyc'>}, init_globals=None, mod_name='__main__', mod_fname='/Library/Frameworks/Python.framework/Versions/2.7/lib/python2.7/site-packages/ipykernel/__main__.py', mod_loader=<pkgutil.ImpLoader instance>, pkg_name='ipykernel')\n     67         run_globals.update(init_globals)\n     68     run_globals.update(__name__ = mod_name,\n     69                        __file__ = mod_fname,\n     70                        __loader__ = mod_loader,\n     71                        __package__ = pkg_name)\n---> 72     exec code in run_globals\n        code = <code object <module> at 0x103426330, file \"/Lib...2.7/site-packages/ipykernel/__main__.py\", line 1>\n        run_globals = {'__builtins__': <module '__builtin__' (built-in)>, '__doc__': None, '__file__': '/Library/Frameworks/Python.framework/Versions/2.7/lib/python2.7/site-packages/ipykernel/__main__.py', '__loader__': <pkgutil.ImpLoader instance>, '__name__': '__main__', '__package__': 'ipykernel', 'app': <module 'ipykernel.kernelapp' from '/Library/Fra...python2.7/site-packages/ipykernel/kernelapp.pyc'>}\n     73     return run_globals\n     74 \n     75 def _run_module_code(code, init_globals=None,\n     76                     mod_name=None, mod_fname=None,\n\n...........................................................................\n/Library/Frameworks/Python.framework/Versions/2.7/lib/python2.7/site-packages/ipykernel/__main__.py in <module>()\n      1 \n      2 \n----> 3 \n      4 if __name__ == '__main__':\n      5     from ipykernel import kernelapp as app\n      6     app.launch_new_instance()\n      7 \n      8 \n      9 \n     10 \n\n...........................................................................\n/Library/Frameworks/Python.framework/Versions/2.7/lib/python2.7/site-packages/traitlets/config/application.py in launch_instance(cls=<class 'ipykernel.kernelapp.IPKernelApp'>, argv=None, **kwargs={})\n    591         \n    592         If a global instance already exists, this reinitializes and starts it\n    593         \"\"\"\n    594         app = cls.instance(**kwargs)\n    595         app.initialize(argv)\n--> 596         app.start()\n        app.start = <bound method IPKernelApp.start of <ipykernel.kernelapp.IPKernelApp object>>\n    597 \n    598 #-----------------------------------------------------------------------------\n    599 # utility functions, for convenience\n    600 #-----------------------------------------------------------------------------\n\n...........................................................................\n/Library/Frameworks/Python.framework/Versions/2.7/lib/python2.7/site-packages/ipykernel/kernelapp.py in start(self=<ipykernel.kernelapp.IPKernelApp object>)\n    437         \n    438         if self.poller is not None:\n    439             self.poller.start()\n    440         self.kernel.start()\n    441         try:\n--> 442             ioloop.IOLoop.instance().start()\n    443         except KeyboardInterrupt:\n    444             pass\n    445 \n    446 launch_new_instance = IPKernelApp.launch_instance\n\n...........................................................................\n/Library/Frameworks/Python.framework/Versions/2.7/lib/python2.7/site-packages/zmq/eventloop/ioloop.py in start(self=<zmq.eventloop.ioloop.ZMQIOLoop object>)\n    157             PollIOLoop.configure(ZMQIOLoop)\n    158         return PollIOLoop.current(*args, **kwargs)\n    159     \n    160     def start(self):\n    161         try:\n--> 162             super(ZMQIOLoop, self).start()\n        self.start = <bound method ZMQIOLoop.start of <zmq.eventloop.ioloop.ZMQIOLoop object>>\n    163         except ZMQError as e:\n    164             if e.errno == ETERM:\n    165                 # quietly return on ETERM\n    166                 pass\n\n...........................................................................\n/Library/Frameworks/Python.framework/Versions/2.7/lib/python2.7/site-packages/tornado/ioloop.py in start(self=<zmq.eventloop.ioloop.ZMQIOLoop object>)\n    878                 self._events.update(event_pairs)\n    879                 while self._events:\n    880                     fd, events = self._events.popitem()\n    881                     try:\n    882                         fd_obj, handler_func = self._handlers[fd]\n--> 883                         handler_func(fd_obj, events)\n        handler_func = <function null_wrapper>\n        fd_obj = <zmq.sugar.socket.Socket object>\n        events = 1\n    884                     except (OSError, IOError) as e:\n    885                         if errno_from_exception(e) == errno.EPIPE:\n    886                             # Happens when the client closes the connection\n    887                             pass\n\n...........................................................................\n/Library/Frameworks/Python.framework/Versions/2.7/lib/python2.7/site-packages/tornado/stack_context.py in null_wrapper(*args=(<zmq.sugar.socket.Socket object>, 1), **kwargs={})\n    270         # Fast path when there are no active contexts.\n    271         def null_wrapper(*args, **kwargs):\n    272             try:\n    273                 current_state = _state.contexts\n    274                 _state.contexts = cap_contexts[0]\n--> 275                 return fn(*args, **kwargs)\n        args = (<zmq.sugar.socket.Socket object>, 1)\n        kwargs = {}\n    276             finally:\n    277                 _state.contexts = current_state\n    278         null_wrapper._wrapped = True\n    279         return null_wrapper\n\n...........................................................................\n/Library/Frameworks/Python.framework/Versions/2.7/lib/python2.7/site-packages/zmq/eventloop/zmqstream.py in _handle_events(self=<zmq.eventloop.zmqstream.ZMQStream object>, fd=<zmq.sugar.socket.Socket object>, events=1)\n    435             # dispatch events:\n    436             if events & IOLoop.ERROR:\n    437                 gen_log.error(\"got POLLERR event on ZMQStream, which doesn't make sense\")\n    438                 return\n    439             if events & IOLoop.READ:\n--> 440                 self._handle_recv()\n        self._handle_recv = <bound method ZMQStream._handle_recv of <zmq.eventloop.zmqstream.ZMQStream object>>\n    441                 if not self.socket:\n    442                     return\n    443             if events & IOLoop.WRITE:\n    444                 self._handle_send()\n\n...........................................................................\n/Library/Frameworks/Python.framework/Versions/2.7/lib/python2.7/site-packages/zmq/eventloop/zmqstream.py in _handle_recv(self=<zmq.eventloop.zmqstream.ZMQStream object>)\n    467                 gen_log.error(\"RECV Error: %s\"%zmq.strerror(e.errno))\n    468         else:\n    469             if self._recv_callback:\n    470                 callback = self._recv_callback\n    471                 # self._recv_callback = None\n--> 472                 self._run_callback(callback, msg)\n        self._run_callback = <bound method ZMQStream._run_callback of <zmq.eventloop.zmqstream.ZMQStream object>>\n        callback = <function null_wrapper>\n        msg = [<zmq.sugar.frame.Frame object>, <zmq.sugar.frame.Frame object>, <zmq.sugar.frame.Frame object>, <zmq.sugar.frame.Frame object>, <zmq.sugar.frame.Frame object>, <zmq.sugar.frame.Frame object>, <zmq.sugar.frame.Frame object>]\n    473                 \n    474         # self.update_state()\n    475         \n    476 \n\n...........................................................................\n/Library/Frameworks/Python.framework/Versions/2.7/lib/python2.7/site-packages/zmq/eventloop/zmqstream.py in _run_callback(self=<zmq.eventloop.zmqstream.ZMQStream object>, callback=<function null_wrapper>, *args=([<zmq.sugar.frame.Frame object>, <zmq.sugar.frame.Frame object>, <zmq.sugar.frame.Frame object>, <zmq.sugar.frame.Frame object>, <zmq.sugar.frame.Frame object>, <zmq.sugar.frame.Frame object>, <zmq.sugar.frame.Frame object>],), **kwargs={})\n    409         close our socket.\"\"\"\n    410         try:\n    411             # Use a NullContext to ensure that all StackContexts are run\n    412             # inside our blanket exception handler rather than outside.\n    413             with stack_context.NullContext():\n--> 414                 callback(*args, **kwargs)\n        callback = <function null_wrapper>\n        args = ([<zmq.sugar.frame.Frame object>, <zmq.sugar.frame.Frame object>, <zmq.sugar.frame.Frame object>, <zmq.sugar.frame.Frame object>, <zmq.sugar.frame.Frame object>, <zmq.sugar.frame.Frame object>, <zmq.sugar.frame.Frame object>],)\n        kwargs = {}\n    415         except:\n    416             gen_log.error(\"Uncaught exception, closing connection.\",\n    417                           exc_info=True)\n    418             # Close the socket on an uncaught exception from a user callback\n\n...........................................................................\n/Library/Frameworks/Python.framework/Versions/2.7/lib/python2.7/site-packages/tornado/stack_context.py in null_wrapper(*args=([<zmq.sugar.frame.Frame object>, <zmq.sugar.frame.Frame object>, <zmq.sugar.frame.Frame object>, <zmq.sugar.frame.Frame object>, <zmq.sugar.frame.Frame object>, <zmq.sugar.frame.Frame object>, <zmq.sugar.frame.Frame object>],), **kwargs={})\n    270         # Fast path when there are no active contexts.\n    271         def null_wrapper(*args, **kwargs):\n    272             try:\n    273                 current_state = _state.contexts\n    274                 _state.contexts = cap_contexts[0]\n--> 275                 return fn(*args, **kwargs)\n        args = ([<zmq.sugar.frame.Frame object>, <zmq.sugar.frame.Frame object>, <zmq.sugar.frame.Frame object>, <zmq.sugar.frame.Frame object>, <zmq.sugar.frame.Frame object>, <zmq.sugar.frame.Frame object>, <zmq.sugar.frame.Frame object>],)\n        kwargs = {}\n    276             finally:\n    277                 _state.contexts = current_state\n    278         null_wrapper._wrapped = True\n    279         return null_wrapper\n\n...........................................................................\n/Library/Frameworks/Python.framework/Versions/2.7/lib/python2.7/site-packages/ipykernel/kernelbase.py in dispatcher(msg=[<zmq.sugar.frame.Frame object>, <zmq.sugar.frame.Frame object>, <zmq.sugar.frame.Frame object>, <zmq.sugar.frame.Frame object>, <zmq.sugar.frame.Frame object>, <zmq.sugar.frame.Frame object>, <zmq.sugar.frame.Frame object>])\n    271         if self.control_stream:\n    272             self.control_stream.on_recv(self.dispatch_control, copy=False)\n    273 \n    274         def make_dispatcher(stream):\n    275             def dispatcher(msg):\n--> 276                 return self.dispatch_shell(stream, msg)\n        msg = [<zmq.sugar.frame.Frame object>, <zmq.sugar.frame.Frame object>, <zmq.sugar.frame.Frame object>, <zmq.sugar.frame.Frame object>, <zmq.sugar.frame.Frame object>, <zmq.sugar.frame.Frame object>, <zmq.sugar.frame.Frame object>]\n    277             return dispatcher\n    278 \n    279         for s in self.shell_streams:\n    280             s.on_recv(make_dispatcher(s), copy=False)\n\n...........................................................................\n/Library/Frameworks/Python.framework/Versions/2.7/lib/python2.7/site-packages/ipykernel/kernelbase.py in dispatch_shell(self=<ipykernel.ipkernel.IPythonKernel object>, stream=<zmq.eventloop.zmqstream.ZMQStream object>, msg={'buffers': [], 'content': {u'allow_stdin': True, u'code': u'for model_name, model in models.items():\\n    ....best_params_\\n    }\\n    print(clf.best_score_)', u'silent': False, u'stop_on_error': True, u'store_history': True, u'user_expressions': {}}, 'header': {'date': '2016-04-26T17:30:23.193131', u'msg_id': u'5FEFAD5970F74DB08E31849711B0F3A1', u'msg_type': u'execute_request', u'session': u'A68ADB8FA7704DDC8D0663BC07F5755B', u'username': u'username', u'version': u'5.0'}, 'metadata': {}, 'msg_id': u'5FEFAD5970F74DB08E31849711B0F3A1', 'msg_type': u'execute_request', 'parent_header': {}})\n    223             self.log.error(\"UNKNOWN MESSAGE TYPE: %r\", msg_type)\n    224         else:\n    225             self.log.debug(\"%s: %s\", msg_type, msg)\n    226             self.pre_handler_hook()\n    227             try:\n--> 228                 handler(stream, idents, msg)\n        handler = <bound method IPythonKernel.execute_request of <ipykernel.ipkernel.IPythonKernel object>>\n        stream = <zmq.eventloop.zmqstream.ZMQStream object>\n        idents = ['A68ADB8FA7704DDC8D0663BC07F5755B']\n        msg = {'buffers': [], 'content': {u'allow_stdin': True, u'code': u'for model_name, model in models.items():\\n    ....best_params_\\n    }\\n    print(clf.best_score_)', u'silent': False, u'stop_on_error': True, u'store_history': True, u'user_expressions': {}}, 'header': {'date': '2016-04-26T17:30:23.193131', u'msg_id': u'5FEFAD5970F74DB08E31849711B0F3A1', u'msg_type': u'execute_request', u'session': u'A68ADB8FA7704DDC8D0663BC07F5755B', u'username': u'username', u'version': u'5.0'}, 'metadata': {}, 'msg_id': u'5FEFAD5970F74DB08E31849711B0F3A1', 'msg_type': u'execute_request', 'parent_header': {}}\n    229             except Exception:\n    230                 self.log.error(\"Exception in message handler:\", exc_info=True)\n    231             finally:\n    232                 self.post_handler_hook()\n\n...........................................................................\n/Library/Frameworks/Python.framework/Versions/2.7/lib/python2.7/site-packages/ipykernel/kernelbase.py in execute_request(self=<ipykernel.ipkernel.IPythonKernel object>, stream=<zmq.eventloop.zmqstream.ZMQStream object>, ident=['A68ADB8FA7704DDC8D0663BC07F5755B'], parent={'buffers': [], 'content': {u'allow_stdin': True, u'code': u'for model_name, model in models.items():\\n    ....best_params_\\n    }\\n    print(clf.best_score_)', u'silent': False, u'stop_on_error': True, u'store_history': True, u'user_expressions': {}}, 'header': {'date': '2016-04-26T17:30:23.193131', u'msg_id': u'5FEFAD5970F74DB08E31849711B0F3A1', u'msg_type': u'execute_request', u'session': u'A68ADB8FA7704DDC8D0663BC07F5755B', u'username': u'username', u'version': u'5.0'}, 'metadata': {}, 'msg_id': u'5FEFAD5970F74DB08E31849711B0F3A1', 'msg_type': u'execute_request', 'parent_header': {}})\n    386         if not silent:\n    387             self.execution_count += 1\n    388             self._publish_execute_input(code, parent, self.execution_count)\n    389 \n    390         reply_content = self.do_execute(code, silent, store_history,\n--> 391                                         user_expressions, allow_stdin)\n        user_expressions = {}\n        allow_stdin = True\n    392 \n    393         # Flush output before sending the reply.\n    394         sys.stdout.flush()\n    395         sys.stderr.flush()\n\n...........................................................................\n/Library/Frameworks/Python.framework/Versions/2.7/lib/python2.7/site-packages/ipykernel/ipkernel.py in do_execute(self=<ipykernel.ipkernel.IPythonKernel object>, code=u'for model_name, model in models.items():\\n    ....best_params_\\n    }\\n    print(clf.best_score_)', silent=False, store_history=True, user_expressions={}, allow_stdin=True)\n    194 \n    195         reply_content = {}\n    196         # FIXME: the shell calls the exception handler itself.\n    197         shell._reply_content = None\n    198         try:\n--> 199             shell.run_cell(code, store_history=store_history, silent=silent)\n        shell.run_cell = <bound method ZMQInteractiveShell.run_cell of <ipykernel.zmqshell.ZMQInteractiveShell object>>\n        code = u'for model_name, model in models.items():\\n    ....best_params_\\n    }\\n    print(clf.best_score_)'\n        store_history = True\n        silent = False\n    200         except:\n    201             status = u'error'\n    202             # FIXME: this code right now isn't being used yet by default,\n    203             # because the run_cell() call above directly fires off exception\n\n...........................................................................\n/Library/Frameworks/Python.framework/Versions/2.7/lib/python2.7/site-packages/IPython/core/interactiveshell.py in run_cell(self=<ipykernel.zmqshell.ZMQInteractiveShell object>, raw_cell=u'for model_name, model in models.items():\\n    ....best_params_\\n    }\\n    print(clf.best_score_)', store_history=True, silent=False, shell_futures=True)\n   2718                 self.displayhook.exec_result = result\n   2719 \n   2720                 # Execute the user code\n   2721                 interactivity = \"none\" if silent else self.ast_node_interactivity\n   2722                 self.run_ast_nodes(code_ast.body, cell_name,\n-> 2723                    interactivity=interactivity, compiler=compiler, result=result)\n        interactivity = 'last_expr'\n        compiler = <IPython.core.compilerop.CachingCompiler instance>\n   2724 \n   2725                 # Reset this so later displayed values do not modify the\n   2726                 # ExecutionResult\n   2727                 self.displayhook.exec_result = None\n\n...........................................................................\n/Library/Frameworks/Python.framework/Versions/2.7/lib/python2.7/site-packages/IPython/core/interactiveshell.py in run_ast_nodes(self=<ipykernel.zmqshell.ZMQInteractiveShell object>, nodelist=[<_ast.For object>], cell_name='<ipython-input-24-3ce533a5e5fe>', interactivity='none', compiler=<IPython.core.compilerop.CachingCompiler instance>, result=<IPython.core.interactiveshell.ExecutionResult object>)\n   2820 \n   2821         try:\n   2822             for i, node in enumerate(to_run_exec):\n   2823                 mod = ast.Module([node])\n   2824                 code = compiler(mod, cell_name, \"exec\")\n-> 2825                 if self.run_code(code, result):\n        self.run_code = <bound method ZMQInteractiveShell.run_code of <ipykernel.zmqshell.ZMQInteractiveShell object>>\n        code = <code object <module> at 0x11b0795b0, file \"<ipython-input-24-3ce533a5e5fe>\", line 1>\n        result = <IPython.core.interactiveshell.ExecutionResult object>\n   2826                     return True\n   2827 \n   2828             for i, node in enumerate(to_run_interactive):\n   2829                 mod = ast.Interactive([node])\n\n...........................................................................\n/Library/Frameworks/Python.framework/Versions/2.7/lib/python2.7/site-packages/IPython/core/interactiveshell.py in run_code(self=<ipykernel.zmqshell.ZMQInteractiveShell object>, code_obj=<code object <module> at 0x11b0795b0, file \"<ipython-input-24-3ce533a5e5fe>\", line 1>, result=<IPython.core.interactiveshell.ExecutionResult object>)\n   2880         outflag = 1  # happens in more places, so it's easier as default\n   2881         try:\n   2882             try:\n   2883                 self.hooks.pre_run_code_hook()\n   2884                 #rprint('Running code', repr(code_obj)) # dbg\n-> 2885                 exec(code_obj, self.user_global_ns, self.user_ns)\n        code_obj = <code object <module> at 0x11b0795b0, file \"<ipython-input-24-3ce533a5e5fe>\", line 1>\n        self.user_global_ns = {'ExtraTreesClassifier': <class 'sklearn.ensemble.forest.ExtraTreesClassifier'>, 'GradientBoostingClassifier': <class 'sklearn.ensemble.gradient_boosting.GradientBoostingClassifier'>, 'GridSearchCV': <class 'sklearn.grid_search.GridSearchCV'>, 'In': ['', u\"get_ipython().magic(u'load_ext autoreload')\\nget_ipython().magic(u'autoreload 2')\", u'from sklearn import datasets\\nfrom sklearn.cro...port json\\n\\nfrom helpers.utils import load_data', u'X = np.load(\"data/MaskDataCorrected.npz\")[\\'X\\'][()]', u'head(X)', u'X[1:3, 2:4]', u'X[1:3]', u'X[:, 1:3]', u'X[:100, 1:3]', u'x = X[:100, 1:3]', u'Y = np.load(\"data/MaskDataCorrected.npz\")[\\'y\\'][()]', u'y', u'Y', u'Y[:100]', u'x = X[:100, 1:3]\\ny = Y[:100]', u'x.shape', u'y.shape', u'PARAM_GRID = {\\n#     \\'RandomForestClassifier...:(\\'linear\\', \\'rbf\\'), \\'C\\':[1, 5, 10]}    \\n}', u\"models = {\\n#     'RandomForestClassifier' : R...r(),\\n    'XGBClassifier' : XGBClassifier()\\n\\n}\", u'random_state = 30', ...], 'Out': {5: <2x2 sparse matrix of type '<type 'numpy.uint8'>...ored elements in Compressed Sparse Column format>, 6: <2x1000 sparse matrix of type '<type 'numpy.uint...ored elements in Compressed Sparse Column format>, 7: <1578627x2 sparse matrix of type '<type 'numpy.u...ored elements in Compressed Sparse Column format>, 8: <100x2 sparse matrix of type '<type 'numpy.uint8...ored elements in Compressed Sparse Column format>, 12: array([-1, -1, -1, ...,  1,  0,  1]), 13: array([-1, -1, -1, -1, -1, -1, -1, -1, -1, -1, -... -1, -1, -1, -1, -1, -1, -1, -1, -1, -1, -1, -1]), 15: (100, 2), 16: (100,)}, 'PARAM_GRID': {'XGBClassifier': {'colsample_bytree': [0.6], 'eval_metric': ['auc'], 'gamma': [0], 'learning_rate': [0.1, 0.2], 'max_depth': [11], 'n_estimators': [1000], 'nthread': [-1], 'objective': ['binary:logistic'], 'subsample': [0.05, 0.1]}}, 'RandomForestClassifier': <class 'sklearn.ensemble.forest.RandomForestClassifier'>, 'SVC': <class 'sklearn.svm.classes.SVC'>, 'X': <1578627x1000 sparse matrix of type '<type 'nump...ored elements in Compressed Sparse Column format>, 'XGBClassifier': <class 'xgboost.sklearn.XGBClassifier'>, ...}\n        self.user_ns = {'ExtraTreesClassifier': <class 'sklearn.ensemble.forest.ExtraTreesClassifier'>, 'GradientBoostingClassifier': <class 'sklearn.ensemble.gradient_boosting.GradientBoostingClassifier'>, 'GridSearchCV': <class 'sklearn.grid_search.GridSearchCV'>, 'In': ['', u\"get_ipython().magic(u'load_ext autoreload')\\nget_ipython().magic(u'autoreload 2')\", u'from sklearn import datasets\\nfrom sklearn.cro...port json\\n\\nfrom helpers.utils import load_data', u'X = np.load(\"data/MaskDataCorrected.npz\")[\\'X\\'][()]', u'head(X)', u'X[1:3, 2:4]', u'X[1:3]', u'X[:, 1:3]', u'X[:100, 1:3]', u'x = X[:100, 1:3]', u'Y = np.load(\"data/MaskDataCorrected.npz\")[\\'y\\'][()]', u'y', u'Y', u'Y[:100]', u'x = X[:100, 1:3]\\ny = Y[:100]', u'x.shape', u'y.shape', u'PARAM_GRID = {\\n#     \\'RandomForestClassifier...:(\\'linear\\', \\'rbf\\'), \\'C\\':[1, 5, 10]}    \\n}', u\"models = {\\n#     'RandomForestClassifier' : R...r(),\\n    'XGBClassifier' : XGBClassifier()\\n\\n}\", u'random_state = 30', ...], 'Out': {5: <2x2 sparse matrix of type '<type 'numpy.uint8'>...ored elements in Compressed Sparse Column format>, 6: <2x1000 sparse matrix of type '<type 'numpy.uint...ored elements in Compressed Sparse Column format>, 7: <1578627x2 sparse matrix of type '<type 'numpy.u...ored elements in Compressed Sparse Column format>, 8: <100x2 sparse matrix of type '<type 'numpy.uint8...ored elements in Compressed Sparse Column format>, 12: array([-1, -1, -1, ...,  1,  0,  1]), 13: array([-1, -1, -1, -1, -1, -1, -1, -1, -1, -1, -... -1, -1, -1, -1, -1, -1, -1, -1, -1, -1, -1, -1]), 15: (100, 2), 16: (100,)}, 'PARAM_GRID': {'XGBClassifier': {'colsample_bytree': [0.6], 'eval_metric': ['auc'], 'gamma': [0], 'learning_rate': [0.1, 0.2], 'max_depth': [11], 'n_estimators': [1000], 'nthread': [-1], 'objective': ['binary:logistic'], 'subsample': [0.05, 0.1]}}, 'RandomForestClassifier': <class 'sklearn.ensemble.forest.RandomForestClassifier'>, 'SVC': <class 'sklearn.svm.classes.SVC'>, 'X': <1578627x1000 sparse matrix of type '<type 'nump...ored elements in Compressed Sparse Column format>, 'XGBClassifier': <class 'xgboost.sklearn.XGBClassifier'>, ...}\n   2886             finally:\n   2887                 # Reset our crash handler in place\n   2888                 sys.excepthook = old_excepthook\n   2889         except SystemExit as e:\n\n...........................................................................\n/Users/DanielMinsuKim/Dropbox/sentiment/python/<ipython-input-24-3ce533a5e5fe> in <module>()\n      1 \n      2 for model_name, model in models.items():\n      3     \n      4     print(\"running %s\" %model_name)\n----> 5     clf = GridSearchCV(model, PARAM_GRID[model_name], cv=12, n_jobs=-1, scoring=\"roc_auc\")\n      6     pred = clf.fit(x, y)\n      7     with open(\"cache/models/%s.pkl\" %model_name, 'wb') as f:\n      8         pickle.dump(pred, f, pickle.HIGHEST_PROTOCOL)\n      9         \n     10     saved_params[model_name] = {\n     11         \"score\" : clf.best_score_,\n\n...........................................................................\n/Library/Frameworks/Python.framework/Versions/2.7/lib/python2.7/site-packages/sklearn/grid_search.py in fit(self=GridSearchCV(cv=12, error_score='raise',\n       ..._jobs', refit=True, scoring='roc_auc', verbose=0), X=<100x2 sparse matrix of type '<type 'numpy.uint8...ored elements in Compressed Sparse Column format>, y=array([-1, -1, -1, -1, -1, -1, -1, -1, -1, -1, -... -1, -1, -1, -1, -1, -1, -1, -1, -1, -1, -1, -1]))\n    799         y : array-like, shape = [n_samples] or [n_samples, n_output], optional\n    800             Target relative to X for classification or regression;\n    801             None for unsupervised learning.\n    802 \n    803         \"\"\"\n--> 804         return self._fit(X, y, ParameterGrid(self.param_grid))\n        self._fit = <bound method GridSearchCV._fit of GridSearchCV(...jobs', refit=True, scoring='roc_auc', verbose=0)>\n        X = <100x2 sparse matrix of type '<type 'numpy.uint8...ored elements in Compressed Sparse Column format>\n        y = array([-1, -1, -1, -1, -1, -1, -1, -1, -1, -1, -... -1, -1, -1, -1, -1, -1, -1, -1, -1, -1, -1, -1])\n        self.param_grid = {'colsample_bytree': [0.6], 'eval_metric': ['auc'], 'gamma': [0], 'learning_rate': [0.1, 0.2], 'max_depth': [11], 'n_estimators': [1000], 'nthread': [-1], 'objective': ['binary:logistic'], 'subsample': [0.05, 0.1]}\n    805 \n    806 \n    807 class RandomizedSearchCV(BaseSearchCV):\n    808     \"\"\"Randomized search on hyper parameters.\n\n...........................................................................\n/Library/Frameworks/Python.framework/Versions/2.7/lib/python2.7/site-packages/sklearn/grid_search.py in _fit(self=GridSearchCV(cv=12, error_score='raise',\n       ..._jobs', refit=True, scoring='roc_auc', verbose=0), X=<100x2 sparse matrix of type '<type 'numpy.uint8... stored elements in Compressed Sparse Row format>, y=array([-1, -1, -1, -1, -1, -1, -1, -1, -1, -1, -... -1, -1, -1, -1, -1, -1, -1, -1, -1, -1, -1, -1]), parameter_iterable=<sklearn.grid_search.ParameterGrid object>)\n    548         )(\n    549             delayed(_fit_and_score)(clone(base_estimator), X, y, self.scorer_,\n    550                                     train, test, self.verbose, parameters,\n    551                                     self.fit_params, return_parameters=True,\n    552                                     error_score=self.error_score)\n--> 553                 for parameters in parameter_iterable\n        parameters = undefined\n        parameter_iterable = <sklearn.grid_search.ParameterGrid object>\n    554                 for train, test in cv)\n    555 \n    556         # Out is a list of triplet: score, estimator, n_test_samples\n    557         n_fits = len(out)\n\n...........................................................................\n/Library/Frameworks/Python.framework/Versions/2.7/lib/python2.7/site-packages/sklearn/externals/joblib/parallel.py in __call__(self=Parallel(n_jobs=-1), iterable=<generator object <genexpr>>)\n    807             if pre_dispatch == \"all\" or n_jobs == 1:\n    808                 # The iterable was consumed all at once by the above for loop.\n    809                 # No need to wait for async callbacks to trigger to\n    810                 # consumption.\n    811                 self._iterating = False\n--> 812             self.retrieve()\n        self.retrieve = <bound method Parallel.retrieve of Parallel(n_jobs=-1)>\n    813             # Make sure that we get a last message telling us we are done\n    814             elapsed_time = time.time() - self._start_time\n    815             self._print('Done %3i out of %3i | elapsed: %s finished',\n    816                         (len(self._output), len(self._output),\n\n---------------------------------------------------------------------------\nSub-process traceback:\n---------------------------------------------------------------------------\nValueError                                         Tue Apr 26 17:30:23 2016\nPID: 2681Python 2.7.10: /Library/Frameworks/Python.framework/Versions/2.7/Resources/Python.app/Contents/MacOS/Python\n...........................................................................\n/Library/Frameworks/Python.framework/Versions/2.7/lib/python2.7/site-packages/sklearn/externals/joblib/parallel.pyc in __call__(self=<sklearn.externals.joblib.parallel.BatchedCalls object>)\n     67     def __init__(self, iterator_slice):\n     68         self.items = list(iterator_slice)\n     69         self._size = len(self.items)\n     70 \n     71     def __call__(self):\n---> 72         return [func(*args, **kwargs) for func, args, kwargs in self.items]\n     73 \n     74     def __len__(self):\n     75         return self._size\n     76 \n\n...........................................................................\n/Library/Frameworks/Python.framework/Versions/2.7/lib/python2.7/site-packages/sklearn/cross_validation.pyc in _fit_and_score(estimator=XGBClassifier(base_score=0.5, colsample_bylevel=...e_pos_weight=1, seed=0, silent=True, subsample=1), X=<100x2 sparse matrix of type '<type 'numpy.uint8... stored elements in Compressed Sparse Row format>, y=array([-1, -1, -1, -1, -1, -1, -1, -1, -1, -1, -... -1, -1, -1, -1, -1, -1, -1, -1, -1, -1, -1, -1]), scorer=make_scorer(roc_auc_score, needs_threshold=True), train=array([ 9, 10, 11, 12, 13, 14, 15, 16, 17, 18, 1..., 90, 91, 92, 93,\n       94, 95, 96, 97, 98, 99]), test=array([0, 1, 2, 3, 4, 5, 6, 7, 8]), verbose=0, parameters={'colsample_bytree': 0.6, 'eval_metric': 'auc', 'gamma': 0, 'learning_rate': 0.1, 'max_depth': 11, 'n_estimators': 1000, 'nthread': -1, 'objective': 'binary:logistic', 'subsample': 0.05}, fit_params={}, return_train_score=False, return_parameters=True, error_score='raise')\n   1515     fit_params = fit_params if fit_params is not None else {}\n   1516     fit_params = dict([(k, _index_param_value(X, v, train))\n   1517                       for k, v in fit_params.items()])\n   1518 \n   1519     if parameters is not None:\n-> 1520         estimator.set_params(**parameters)\n   1521 \n   1522     start_time = time.time()\n   1523 \n   1524     X_train, y_train = _safe_split(estimator, X, y, train)\n\n...........................................................................\n/Library/Frameworks/Python.framework/Versions/2.7/lib/python2.7/site-packages/sklearn/base.pyc in set_params(self=XGBClassifier(base_score=0.5, colsample_bylevel=...e_pos_weight=1, seed=0, silent=True, subsample=1), **params={'colsample_bytree': 0.6, 'eval_metric': 'auc', 'gamma': 0, 'learning_rate': 0.1, 'max_depth': 11, 'n_estimators': 1000, 'nthread': -1, 'objective': 'binary:logistic', 'subsample': 0.05})\n    265                 # simple objects case\n    266                 if key not in valid_params:\n    267                     raise ValueError('Invalid parameter %s for estimator %s. '\n    268                                      'Check the list of available parameters '\n    269                                      'with `estimator.get_params().keys()`.' %\n--> 270                                      (key, self.__class__.__name__))\n    271                 setattr(self, key, value)\n    272         return self\n    273 \n    274     def __repr__(self):\n\nValueError: Invalid parameter eval_metric for estimator XGBClassifier. Check the list of available parameters with `estimator.get_params().keys()`.\n___________________________________________________________________________",
     "output_type": "error",
     "traceback": [
      "\u001b[0;31m---------------------------------------------------------------------------\u001b[0m",
      "\u001b[0;31mJoblibValueError\u001b[0m                          Traceback (most recent call last)",
      "\u001b[0;32m<ipython-input-24-3ce533a5e5fe>\u001b[0m in \u001b[0;36m<module>\u001b[0;34m()\u001b[0m\n\u001b[1;32m      3\u001b[0m     \u001b[0;32mprint\u001b[0m\u001b[0;34m(\u001b[0m\u001b[0;34m\"running %s\"\u001b[0m \u001b[0;34m%\u001b[0m\u001b[0mmodel_name\u001b[0m\u001b[0;34m)\u001b[0m\u001b[0;34m\u001b[0m\u001b[0m\n\u001b[1;32m      4\u001b[0m     \u001b[0mclf\u001b[0m \u001b[0;34m=\u001b[0m \u001b[0mGridSearchCV\u001b[0m\u001b[0;34m(\u001b[0m\u001b[0mmodel\u001b[0m\u001b[0;34m,\u001b[0m \u001b[0mPARAM_GRID\u001b[0m\u001b[0;34m[\u001b[0m\u001b[0mmodel_name\u001b[0m\u001b[0;34m]\u001b[0m\u001b[0;34m,\u001b[0m \u001b[0mcv\u001b[0m\u001b[0;34m=\u001b[0m\u001b[0;36m12\u001b[0m\u001b[0;34m,\u001b[0m \u001b[0mn_jobs\u001b[0m\u001b[0;34m=\u001b[0m\u001b[0;34m-\u001b[0m\u001b[0;36m1\u001b[0m\u001b[0;34m,\u001b[0m \u001b[0mscoring\u001b[0m\u001b[0;34m=\u001b[0m\u001b[0;34m\"roc_auc\"\u001b[0m\u001b[0;34m)\u001b[0m\u001b[0;34m\u001b[0m\u001b[0m\n\u001b[0;32m----> 5\u001b[0;31m     \u001b[0mpred\u001b[0m \u001b[0;34m=\u001b[0m \u001b[0mclf\u001b[0m\u001b[0;34m.\u001b[0m\u001b[0mfit\u001b[0m\u001b[0;34m(\u001b[0m\u001b[0mx\u001b[0m\u001b[0;34m,\u001b[0m \u001b[0my\u001b[0m\u001b[0;34m)\u001b[0m\u001b[0;34m\u001b[0m\u001b[0m\n\u001b[0m\u001b[1;32m      6\u001b[0m     \u001b[0;32mwith\u001b[0m \u001b[0mopen\u001b[0m\u001b[0;34m(\u001b[0m\u001b[0;34m\"cache/models/%s.pkl\"\u001b[0m \u001b[0;34m%\u001b[0m\u001b[0mmodel_name\u001b[0m\u001b[0;34m,\u001b[0m \u001b[0;34m'wb'\u001b[0m\u001b[0;34m)\u001b[0m \u001b[0;32mas\u001b[0m \u001b[0mf\u001b[0m\u001b[0;34m:\u001b[0m\u001b[0;34m\u001b[0m\u001b[0m\n\u001b[1;32m      7\u001b[0m         \u001b[0mpickle\u001b[0m\u001b[0;34m.\u001b[0m\u001b[0mdump\u001b[0m\u001b[0;34m(\u001b[0m\u001b[0mpred\u001b[0m\u001b[0;34m,\u001b[0m \u001b[0mf\u001b[0m\u001b[0;34m,\u001b[0m \u001b[0mpickle\u001b[0m\u001b[0;34m.\u001b[0m\u001b[0mHIGHEST_PROTOCOL\u001b[0m\u001b[0;34m)\u001b[0m\u001b[0;34m\u001b[0m\u001b[0m\n",
      "\u001b[0;32m/Library/Frameworks/Python.framework/Versions/2.7/lib/python2.7/site-packages/sklearn/grid_search.pyc\u001b[0m in \u001b[0;36mfit\u001b[0;34m(self, X, y)\u001b[0m\n\u001b[1;32m    802\u001b[0m \u001b[0;34m\u001b[0m\u001b[0m\n\u001b[1;32m    803\u001b[0m         \"\"\"\n\u001b[0;32m--> 804\u001b[0;31m         \u001b[0;32mreturn\u001b[0m \u001b[0mself\u001b[0m\u001b[0;34m.\u001b[0m\u001b[0m_fit\u001b[0m\u001b[0;34m(\u001b[0m\u001b[0mX\u001b[0m\u001b[0;34m,\u001b[0m \u001b[0my\u001b[0m\u001b[0;34m,\u001b[0m \u001b[0mParameterGrid\u001b[0m\u001b[0;34m(\u001b[0m\u001b[0mself\u001b[0m\u001b[0;34m.\u001b[0m\u001b[0mparam_grid\u001b[0m\u001b[0;34m)\u001b[0m\u001b[0;34m)\u001b[0m\u001b[0;34m\u001b[0m\u001b[0m\n\u001b[0m\u001b[1;32m    805\u001b[0m \u001b[0;34m\u001b[0m\u001b[0m\n\u001b[1;32m    806\u001b[0m \u001b[0;34m\u001b[0m\u001b[0m\n",
      "\u001b[0;32m/Library/Frameworks/Python.framework/Versions/2.7/lib/python2.7/site-packages/sklearn/grid_search.pyc\u001b[0m in \u001b[0;36m_fit\u001b[0;34m(self, X, y, parameter_iterable)\u001b[0m\n\u001b[1;32m    551\u001b[0m                                     \u001b[0mself\u001b[0m\u001b[0;34m.\u001b[0m\u001b[0mfit_params\u001b[0m\u001b[0;34m,\u001b[0m \u001b[0mreturn_parameters\u001b[0m\u001b[0;34m=\u001b[0m\u001b[0mTrue\u001b[0m\u001b[0;34m,\u001b[0m\u001b[0;34m\u001b[0m\u001b[0m\n\u001b[1;32m    552\u001b[0m                                     error_score=self.error_score)\n\u001b[0;32m--> 553\u001b[0;31m                 \u001b[0;32mfor\u001b[0m \u001b[0mparameters\u001b[0m \u001b[0;32min\u001b[0m \u001b[0mparameter_iterable\u001b[0m\u001b[0;34m\u001b[0m\u001b[0m\n\u001b[0m\u001b[1;32m    554\u001b[0m                 for train, test in cv)\n\u001b[1;32m    555\u001b[0m \u001b[0;34m\u001b[0m\u001b[0m\n",
      "\u001b[0;32m/Library/Frameworks/Python.framework/Versions/2.7/lib/python2.7/site-packages/sklearn/externals/joblib/parallel.pyc\u001b[0m in \u001b[0;36m__call__\u001b[0;34m(self, iterable)\u001b[0m\n\u001b[1;32m    810\u001b[0m                 \u001b[0;31m# consumption.\u001b[0m\u001b[0;34m\u001b[0m\u001b[0;34m\u001b[0m\u001b[0m\n\u001b[1;32m    811\u001b[0m                 \u001b[0mself\u001b[0m\u001b[0;34m.\u001b[0m\u001b[0m_iterating\u001b[0m \u001b[0;34m=\u001b[0m \u001b[0mFalse\u001b[0m\u001b[0;34m\u001b[0m\u001b[0m\n\u001b[0;32m--> 812\u001b[0;31m             \u001b[0mself\u001b[0m\u001b[0;34m.\u001b[0m\u001b[0mretrieve\u001b[0m\u001b[0;34m(\u001b[0m\u001b[0;34m)\u001b[0m\u001b[0;34m\u001b[0m\u001b[0m\n\u001b[0m\u001b[1;32m    813\u001b[0m             \u001b[0;31m# Make sure that we get a last message telling us we are done\u001b[0m\u001b[0;34m\u001b[0m\u001b[0;34m\u001b[0m\u001b[0m\n\u001b[1;32m    814\u001b[0m             \u001b[0melapsed_time\u001b[0m \u001b[0;34m=\u001b[0m \u001b[0mtime\u001b[0m\u001b[0;34m.\u001b[0m\u001b[0mtime\u001b[0m\u001b[0;34m(\u001b[0m\u001b[0;34m)\u001b[0m \u001b[0;34m-\u001b[0m \u001b[0mself\u001b[0m\u001b[0;34m.\u001b[0m\u001b[0m_start_time\u001b[0m\u001b[0;34m\u001b[0m\u001b[0m\n",
      "\u001b[0;32m/Library/Frameworks/Python.framework/Versions/2.7/lib/python2.7/site-packages/sklearn/externals/joblib/parallel.pyc\u001b[0m in \u001b[0;36mretrieve\u001b[0;34m(self)\u001b[0m\n\u001b[1;32m    760\u001b[0m                         \u001b[0;31m# a working pool as they expect.\u001b[0m\u001b[0;34m\u001b[0m\u001b[0;34m\u001b[0m\u001b[0m\n\u001b[1;32m    761\u001b[0m                         \u001b[0mself\u001b[0m\u001b[0;34m.\u001b[0m\u001b[0m_initialize_pool\u001b[0m\u001b[0;34m(\u001b[0m\u001b[0;34m)\u001b[0m\u001b[0;34m\u001b[0m\u001b[0m\n\u001b[0;32m--> 762\u001b[0;31m                 \u001b[0;32mraise\u001b[0m \u001b[0mexception\u001b[0m\u001b[0;34m\u001b[0m\u001b[0m\n\u001b[0m\u001b[1;32m    763\u001b[0m \u001b[0;34m\u001b[0m\u001b[0m\n\u001b[1;32m    764\u001b[0m     \u001b[0;32mdef\u001b[0m \u001b[0m__call__\u001b[0m\u001b[0;34m(\u001b[0m\u001b[0mself\u001b[0m\u001b[0;34m,\u001b[0m \u001b[0miterable\u001b[0m\u001b[0;34m)\u001b[0m\u001b[0;34m:\u001b[0m\u001b[0;34m\u001b[0m\u001b[0m\n",
      "\u001b[0;31mJoblibValueError\u001b[0m: JoblibValueError\n___________________________________________________________________________\nMultiprocessing exception:\n...........................................................................\n/Library/Frameworks/Python.framework/Versions/2.7/lib/python2.7/runpy.py in _run_module_as_main(mod_name='ipykernel.__main__', alter_argv=1)\n    157     pkg_name = mod_name.rpartition('.')[0]\n    158     main_globals = sys.modules[\"__main__\"].__dict__\n    159     if alter_argv:\n    160         sys.argv[0] = fname\n    161     return _run_code(code, main_globals, None,\n--> 162                      \"__main__\", fname, loader, pkg_name)\n        fname = '/Library/Frameworks/Python.framework/Versions/2.7/lib/python2.7/site-packages/ipykernel/__main__.py'\n        loader = <pkgutil.ImpLoader instance>\n        pkg_name = 'ipykernel'\n    163 \n    164 def run_module(mod_name, init_globals=None,\n    165                run_name=None, alter_sys=False):\n    166     \"\"\"Execute a module's code without importing it\n\n...........................................................................\n/Library/Frameworks/Python.framework/Versions/2.7/lib/python2.7/runpy.py in _run_code(code=<code object <module> at 0x103426330, file \"/Lib...2.7/site-packages/ipykernel/__main__.py\", line 1>, run_globals={'__builtins__': <module '__builtin__' (built-in)>, '__doc__': None, '__file__': '/Library/Frameworks/Python.framework/Versions/2.7/lib/python2.7/site-packages/ipykernel/__main__.py', '__loader__': <pkgutil.ImpLoader instance>, '__name__': '__main__', '__package__': 'ipykernel', 'app': <module 'ipykernel.kernelapp' from '/Library/Fra...python2.7/site-packages/ipykernel/kernelapp.pyc'>}, init_globals=None, mod_name='__main__', mod_fname='/Library/Frameworks/Python.framework/Versions/2.7/lib/python2.7/site-packages/ipykernel/__main__.py', mod_loader=<pkgutil.ImpLoader instance>, pkg_name='ipykernel')\n     67         run_globals.update(init_globals)\n     68     run_globals.update(__name__ = mod_name,\n     69                        __file__ = mod_fname,\n     70                        __loader__ = mod_loader,\n     71                        __package__ = pkg_name)\n---> 72     exec code in run_globals\n        code = <code object <module> at 0x103426330, file \"/Lib...2.7/site-packages/ipykernel/__main__.py\", line 1>\n        run_globals = {'__builtins__': <module '__builtin__' (built-in)>, '__doc__': None, '__file__': '/Library/Frameworks/Python.framework/Versions/2.7/lib/python2.7/site-packages/ipykernel/__main__.py', '__loader__': <pkgutil.ImpLoader instance>, '__name__': '__main__', '__package__': 'ipykernel', 'app': <module 'ipykernel.kernelapp' from '/Library/Fra...python2.7/site-packages/ipykernel/kernelapp.pyc'>}\n     73     return run_globals\n     74 \n     75 def _run_module_code(code, init_globals=None,\n     76                     mod_name=None, mod_fname=None,\n\n...........................................................................\n/Library/Frameworks/Python.framework/Versions/2.7/lib/python2.7/site-packages/ipykernel/__main__.py in <module>()\n      1 \n      2 \n----> 3 \n      4 if __name__ == '__main__':\n      5     from ipykernel import kernelapp as app\n      6     app.launch_new_instance()\n      7 \n      8 \n      9 \n     10 \n\n...........................................................................\n/Library/Frameworks/Python.framework/Versions/2.7/lib/python2.7/site-packages/traitlets/config/application.py in launch_instance(cls=<class 'ipykernel.kernelapp.IPKernelApp'>, argv=None, **kwargs={})\n    591         \n    592         If a global instance already exists, this reinitializes and starts it\n    593         \"\"\"\n    594         app = cls.instance(**kwargs)\n    595         app.initialize(argv)\n--> 596         app.start()\n        app.start = <bound method IPKernelApp.start of <ipykernel.kernelapp.IPKernelApp object>>\n    597 \n    598 #-----------------------------------------------------------------------------\n    599 # utility functions, for convenience\n    600 #-----------------------------------------------------------------------------\n\n...........................................................................\n/Library/Frameworks/Python.framework/Versions/2.7/lib/python2.7/site-packages/ipykernel/kernelapp.py in start(self=<ipykernel.kernelapp.IPKernelApp object>)\n    437         \n    438         if self.poller is not None:\n    439             self.poller.start()\n    440         self.kernel.start()\n    441         try:\n--> 442             ioloop.IOLoop.instance().start()\n    443         except KeyboardInterrupt:\n    444             pass\n    445 \n    446 launch_new_instance = IPKernelApp.launch_instance\n\n...........................................................................\n/Library/Frameworks/Python.framework/Versions/2.7/lib/python2.7/site-packages/zmq/eventloop/ioloop.py in start(self=<zmq.eventloop.ioloop.ZMQIOLoop object>)\n    157             PollIOLoop.configure(ZMQIOLoop)\n    158         return PollIOLoop.current(*args, **kwargs)\n    159     \n    160     def start(self):\n    161         try:\n--> 162             super(ZMQIOLoop, self).start()\n        self.start = <bound method ZMQIOLoop.start of <zmq.eventloop.ioloop.ZMQIOLoop object>>\n    163         except ZMQError as e:\n    164             if e.errno == ETERM:\n    165                 # quietly return on ETERM\n    166                 pass\n\n...........................................................................\n/Library/Frameworks/Python.framework/Versions/2.7/lib/python2.7/site-packages/tornado/ioloop.py in start(self=<zmq.eventloop.ioloop.ZMQIOLoop object>)\n    878                 self._events.update(event_pairs)\n    879                 while self._events:\n    880                     fd, events = self._events.popitem()\n    881                     try:\n    882                         fd_obj, handler_func = self._handlers[fd]\n--> 883                         handler_func(fd_obj, events)\n        handler_func = <function null_wrapper>\n        fd_obj = <zmq.sugar.socket.Socket object>\n        events = 1\n    884                     except (OSError, IOError) as e:\n    885                         if errno_from_exception(e) == errno.EPIPE:\n    886                             # Happens when the client closes the connection\n    887                             pass\n\n...........................................................................\n/Library/Frameworks/Python.framework/Versions/2.7/lib/python2.7/site-packages/tornado/stack_context.py in null_wrapper(*args=(<zmq.sugar.socket.Socket object>, 1), **kwargs={})\n    270         # Fast path when there are no active contexts.\n    271         def null_wrapper(*args, **kwargs):\n    272             try:\n    273                 current_state = _state.contexts\n    274                 _state.contexts = cap_contexts[0]\n--> 275                 return fn(*args, **kwargs)\n        args = (<zmq.sugar.socket.Socket object>, 1)\n        kwargs = {}\n    276             finally:\n    277                 _state.contexts = current_state\n    278         null_wrapper._wrapped = True\n    279         return null_wrapper\n\n...........................................................................\n/Library/Frameworks/Python.framework/Versions/2.7/lib/python2.7/site-packages/zmq/eventloop/zmqstream.py in _handle_events(self=<zmq.eventloop.zmqstream.ZMQStream object>, fd=<zmq.sugar.socket.Socket object>, events=1)\n    435             # dispatch events:\n    436             if events & IOLoop.ERROR:\n    437                 gen_log.error(\"got POLLERR event on ZMQStream, which doesn't make sense\")\n    438                 return\n    439             if events & IOLoop.READ:\n--> 440                 self._handle_recv()\n        self._handle_recv = <bound method ZMQStream._handle_recv of <zmq.eventloop.zmqstream.ZMQStream object>>\n    441                 if not self.socket:\n    442                     return\n    443             if events & IOLoop.WRITE:\n    444                 self._handle_send()\n\n...........................................................................\n/Library/Frameworks/Python.framework/Versions/2.7/lib/python2.7/site-packages/zmq/eventloop/zmqstream.py in _handle_recv(self=<zmq.eventloop.zmqstream.ZMQStream object>)\n    467                 gen_log.error(\"RECV Error: %s\"%zmq.strerror(e.errno))\n    468         else:\n    469             if self._recv_callback:\n    470                 callback = self._recv_callback\n    471                 # self._recv_callback = None\n--> 472                 self._run_callback(callback, msg)\n        self._run_callback = <bound method ZMQStream._run_callback of <zmq.eventloop.zmqstream.ZMQStream object>>\n        callback = <function null_wrapper>\n        msg = [<zmq.sugar.frame.Frame object>, <zmq.sugar.frame.Frame object>, <zmq.sugar.frame.Frame object>, <zmq.sugar.frame.Frame object>, <zmq.sugar.frame.Frame object>, <zmq.sugar.frame.Frame object>, <zmq.sugar.frame.Frame object>]\n    473                 \n    474         # self.update_state()\n    475         \n    476 \n\n...........................................................................\n/Library/Frameworks/Python.framework/Versions/2.7/lib/python2.7/site-packages/zmq/eventloop/zmqstream.py in _run_callback(self=<zmq.eventloop.zmqstream.ZMQStream object>, callback=<function null_wrapper>, *args=([<zmq.sugar.frame.Frame object>, <zmq.sugar.frame.Frame object>, <zmq.sugar.frame.Frame object>, <zmq.sugar.frame.Frame object>, <zmq.sugar.frame.Frame object>, <zmq.sugar.frame.Frame object>, <zmq.sugar.frame.Frame object>],), **kwargs={})\n    409         close our socket.\"\"\"\n    410         try:\n    411             # Use a NullContext to ensure that all StackContexts are run\n    412             # inside our blanket exception handler rather than outside.\n    413             with stack_context.NullContext():\n--> 414                 callback(*args, **kwargs)\n        callback = <function null_wrapper>\n        args = ([<zmq.sugar.frame.Frame object>, <zmq.sugar.frame.Frame object>, <zmq.sugar.frame.Frame object>, <zmq.sugar.frame.Frame object>, <zmq.sugar.frame.Frame object>, <zmq.sugar.frame.Frame object>, <zmq.sugar.frame.Frame object>],)\n        kwargs = {}\n    415         except:\n    416             gen_log.error(\"Uncaught exception, closing connection.\",\n    417                           exc_info=True)\n    418             # Close the socket on an uncaught exception from a user callback\n\n...........................................................................\n/Library/Frameworks/Python.framework/Versions/2.7/lib/python2.7/site-packages/tornado/stack_context.py in null_wrapper(*args=([<zmq.sugar.frame.Frame object>, <zmq.sugar.frame.Frame object>, <zmq.sugar.frame.Frame object>, <zmq.sugar.frame.Frame object>, <zmq.sugar.frame.Frame object>, <zmq.sugar.frame.Frame object>, <zmq.sugar.frame.Frame object>],), **kwargs={})\n    270         # Fast path when there are no active contexts.\n    271         def null_wrapper(*args, **kwargs):\n    272             try:\n    273                 current_state = _state.contexts\n    274                 _state.contexts = cap_contexts[0]\n--> 275                 return fn(*args, **kwargs)\n        args = ([<zmq.sugar.frame.Frame object>, <zmq.sugar.frame.Frame object>, <zmq.sugar.frame.Frame object>, <zmq.sugar.frame.Frame object>, <zmq.sugar.frame.Frame object>, <zmq.sugar.frame.Frame object>, <zmq.sugar.frame.Frame object>],)\n        kwargs = {}\n    276             finally:\n    277                 _state.contexts = current_state\n    278         null_wrapper._wrapped = True\n    279         return null_wrapper\n\n...........................................................................\n/Library/Frameworks/Python.framework/Versions/2.7/lib/python2.7/site-packages/ipykernel/kernelbase.py in dispatcher(msg=[<zmq.sugar.frame.Frame object>, <zmq.sugar.frame.Frame object>, <zmq.sugar.frame.Frame object>, <zmq.sugar.frame.Frame object>, <zmq.sugar.frame.Frame object>, <zmq.sugar.frame.Frame object>, <zmq.sugar.frame.Frame object>])\n    271         if self.control_stream:\n    272             self.control_stream.on_recv(self.dispatch_control, copy=False)\n    273 \n    274         def make_dispatcher(stream):\n    275             def dispatcher(msg):\n--> 276                 return self.dispatch_shell(stream, msg)\n        msg = [<zmq.sugar.frame.Frame object>, <zmq.sugar.frame.Frame object>, <zmq.sugar.frame.Frame object>, <zmq.sugar.frame.Frame object>, <zmq.sugar.frame.Frame object>, <zmq.sugar.frame.Frame object>, <zmq.sugar.frame.Frame object>]\n    277             return dispatcher\n    278 \n    279         for s in self.shell_streams:\n    280             s.on_recv(make_dispatcher(s), copy=False)\n\n...........................................................................\n/Library/Frameworks/Python.framework/Versions/2.7/lib/python2.7/site-packages/ipykernel/kernelbase.py in dispatch_shell(self=<ipykernel.ipkernel.IPythonKernel object>, stream=<zmq.eventloop.zmqstream.ZMQStream object>, msg={'buffers': [], 'content': {u'allow_stdin': True, u'code': u'for model_name, model in models.items():\\n    ....best_params_\\n    }\\n    print(clf.best_score_)', u'silent': False, u'stop_on_error': True, u'store_history': True, u'user_expressions': {}}, 'header': {'date': '2016-04-26T17:30:23.193131', u'msg_id': u'5FEFAD5970F74DB08E31849711B0F3A1', u'msg_type': u'execute_request', u'session': u'A68ADB8FA7704DDC8D0663BC07F5755B', u'username': u'username', u'version': u'5.0'}, 'metadata': {}, 'msg_id': u'5FEFAD5970F74DB08E31849711B0F3A1', 'msg_type': u'execute_request', 'parent_header': {}})\n    223             self.log.error(\"UNKNOWN MESSAGE TYPE: %r\", msg_type)\n    224         else:\n    225             self.log.debug(\"%s: %s\", msg_type, msg)\n    226             self.pre_handler_hook()\n    227             try:\n--> 228                 handler(stream, idents, msg)\n        handler = <bound method IPythonKernel.execute_request of <ipykernel.ipkernel.IPythonKernel object>>\n        stream = <zmq.eventloop.zmqstream.ZMQStream object>\n        idents = ['A68ADB8FA7704DDC8D0663BC07F5755B']\n        msg = {'buffers': [], 'content': {u'allow_stdin': True, u'code': u'for model_name, model in models.items():\\n    ....best_params_\\n    }\\n    print(clf.best_score_)', u'silent': False, u'stop_on_error': True, u'store_history': True, u'user_expressions': {}}, 'header': {'date': '2016-04-26T17:30:23.193131', u'msg_id': u'5FEFAD5970F74DB08E31849711B0F3A1', u'msg_type': u'execute_request', u'session': u'A68ADB8FA7704DDC8D0663BC07F5755B', u'username': u'username', u'version': u'5.0'}, 'metadata': {}, 'msg_id': u'5FEFAD5970F74DB08E31849711B0F3A1', 'msg_type': u'execute_request', 'parent_header': {}}\n    229             except Exception:\n    230                 self.log.error(\"Exception in message handler:\", exc_info=True)\n    231             finally:\n    232                 self.post_handler_hook()\n\n...........................................................................\n/Library/Frameworks/Python.framework/Versions/2.7/lib/python2.7/site-packages/ipykernel/kernelbase.py in execute_request(self=<ipykernel.ipkernel.IPythonKernel object>, stream=<zmq.eventloop.zmqstream.ZMQStream object>, ident=['A68ADB8FA7704DDC8D0663BC07F5755B'], parent={'buffers': [], 'content': {u'allow_stdin': True, u'code': u'for model_name, model in models.items():\\n    ....best_params_\\n    }\\n    print(clf.best_score_)', u'silent': False, u'stop_on_error': True, u'store_history': True, u'user_expressions': {}}, 'header': {'date': '2016-04-26T17:30:23.193131', u'msg_id': u'5FEFAD5970F74DB08E31849711B0F3A1', u'msg_type': u'execute_request', u'session': u'A68ADB8FA7704DDC8D0663BC07F5755B', u'username': u'username', u'version': u'5.0'}, 'metadata': {}, 'msg_id': u'5FEFAD5970F74DB08E31849711B0F3A1', 'msg_type': u'execute_request', 'parent_header': {}})\n    386         if not silent:\n    387             self.execution_count += 1\n    388             self._publish_execute_input(code, parent, self.execution_count)\n    389 \n    390         reply_content = self.do_execute(code, silent, store_history,\n--> 391                                         user_expressions, allow_stdin)\n        user_expressions = {}\n        allow_stdin = True\n    392 \n    393         # Flush output before sending the reply.\n    394         sys.stdout.flush()\n    395         sys.stderr.flush()\n\n...........................................................................\n/Library/Frameworks/Python.framework/Versions/2.7/lib/python2.7/site-packages/ipykernel/ipkernel.py in do_execute(self=<ipykernel.ipkernel.IPythonKernel object>, code=u'for model_name, model in models.items():\\n    ....best_params_\\n    }\\n    print(clf.best_score_)', silent=False, store_history=True, user_expressions={}, allow_stdin=True)\n    194 \n    195         reply_content = {}\n    196         # FIXME: the shell calls the exception handler itself.\n    197         shell._reply_content = None\n    198         try:\n--> 199             shell.run_cell(code, store_history=store_history, silent=silent)\n        shell.run_cell = <bound method ZMQInteractiveShell.run_cell of <ipykernel.zmqshell.ZMQInteractiveShell object>>\n        code = u'for model_name, model in models.items():\\n    ....best_params_\\n    }\\n    print(clf.best_score_)'\n        store_history = True\n        silent = False\n    200         except:\n    201             status = u'error'\n    202             # FIXME: this code right now isn't being used yet by default,\n    203             # because the run_cell() call above directly fires off exception\n\n...........................................................................\n/Library/Frameworks/Python.framework/Versions/2.7/lib/python2.7/site-packages/IPython/core/interactiveshell.py in run_cell(self=<ipykernel.zmqshell.ZMQInteractiveShell object>, raw_cell=u'for model_name, model in models.items():\\n    ....best_params_\\n    }\\n    print(clf.best_score_)', store_history=True, silent=False, shell_futures=True)\n   2718                 self.displayhook.exec_result = result\n   2719 \n   2720                 # Execute the user code\n   2721                 interactivity = \"none\" if silent else self.ast_node_interactivity\n   2722                 self.run_ast_nodes(code_ast.body, cell_name,\n-> 2723                    interactivity=interactivity, compiler=compiler, result=result)\n        interactivity = 'last_expr'\n        compiler = <IPython.core.compilerop.CachingCompiler instance>\n   2724 \n   2725                 # Reset this so later displayed values do not modify the\n   2726                 # ExecutionResult\n   2727                 self.displayhook.exec_result = None\n\n...........................................................................\n/Library/Frameworks/Python.framework/Versions/2.7/lib/python2.7/site-packages/IPython/core/interactiveshell.py in run_ast_nodes(self=<ipykernel.zmqshell.ZMQInteractiveShell object>, nodelist=[<_ast.For object>], cell_name='<ipython-input-24-3ce533a5e5fe>', interactivity='none', compiler=<IPython.core.compilerop.CachingCompiler instance>, result=<IPython.core.interactiveshell.ExecutionResult object>)\n   2820 \n   2821         try:\n   2822             for i, node in enumerate(to_run_exec):\n   2823                 mod = ast.Module([node])\n   2824                 code = compiler(mod, cell_name, \"exec\")\n-> 2825                 if self.run_code(code, result):\n        self.run_code = <bound method ZMQInteractiveShell.run_code of <ipykernel.zmqshell.ZMQInteractiveShell object>>\n        code = <code object <module> at 0x11b0795b0, file \"<ipython-input-24-3ce533a5e5fe>\", line 1>\n        result = <IPython.core.interactiveshell.ExecutionResult object>\n   2826                     return True\n   2827 \n   2828             for i, node in enumerate(to_run_interactive):\n   2829                 mod = ast.Interactive([node])\n\n...........................................................................\n/Library/Frameworks/Python.framework/Versions/2.7/lib/python2.7/site-packages/IPython/core/interactiveshell.py in run_code(self=<ipykernel.zmqshell.ZMQInteractiveShell object>, code_obj=<code object <module> at 0x11b0795b0, file \"<ipython-input-24-3ce533a5e5fe>\", line 1>, result=<IPython.core.interactiveshell.ExecutionResult object>)\n   2880         outflag = 1  # happens in more places, so it's easier as default\n   2881         try:\n   2882             try:\n   2883                 self.hooks.pre_run_code_hook()\n   2884                 #rprint('Running code', repr(code_obj)) # dbg\n-> 2885                 exec(code_obj, self.user_global_ns, self.user_ns)\n        code_obj = <code object <module> at 0x11b0795b0, file \"<ipython-input-24-3ce533a5e5fe>\", line 1>\n        self.user_global_ns = {'ExtraTreesClassifier': <class 'sklearn.ensemble.forest.ExtraTreesClassifier'>, 'GradientBoostingClassifier': <class 'sklearn.ensemble.gradient_boosting.GradientBoostingClassifier'>, 'GridSearchCV': <class 'sklearn.grid_search.GridSearchCV'>, 'In': ['', u\"get_ipython().magic(u'load_ext autoreload')\\nget_ipython().magic(u'autoreload 2')\", u'from sklearn import datasets\\nfrom sklearn.cro...port json\\n\\nfrom helpers.utils import load_data', u'X = np.load(\"data/MaskDataCorrected.npz\")[\\'X\\'][()]', u'head(X)', u'X[1:3, 2:4]', u'X[1:3]', u'X[:, 1:3]', u'X[:100, 1:3]', u'x = X[:100, 1:3]', u'Y = np.load(\"data/MaskDataCorrected.npz\")[\\'y\\'][()]', u'y', u'Y', u'Y[:100]', u'x = X[:100, 1:3]\\ny = Y[:100]', u'x.shape', u'y.shape', u'PARAM_GRID = {\\n#     \\'RandomForestClassifier...:(\\'linear\\', \\'rbf\\'), \\'C\\':[1, 5, 10]}    \\n}', u\"models = {\\n#     'RandomForestClassifier' : R...r(),\\n    'XGBClassifier' : XGBClassifier()\\n\\n}\", u'random_state = 30', ...], 'Out': {5: <2x2 sparse matrix of type '<type 'numpy.uint8'>...ored elements in Compressed Sparse Column format>, 6: <2x1000 sparse matrix of type '<type 'numpy.uint...ored elements in Compressed Sparse Column format>, 7: <1578627x2 sparse matrix of type '<type 'numpy.u...ored elements in Compressed Sparse Column format>, 8: <100x2 sparse matrix of type '<type 'numpy.uint8...ored elements in Compressed Sparse Column format>, 12: array([-1, -1, -1, ...,  1,  0,  1]), 13: array([-1, -1, -1, -1, -1, -1, -1, -1, -1, -1, -... -1, -1, -1, -1, -1, -1, -1, -1, -1, -1, -1, -1]), 15: (100, 2), 16: (100,)}, 'PARAM_GRID': {'XGBClassifier': {'colsample_bytree': [0.6], 'eval_metric': ['auc'], 'gamma': [0], 'learning_rate': [0.1, 0.2], 'max_depth': [11], 'n_estimators': [1000], 'nthread': [-1], 'objective': ['binary:logistic'], 'subsample': [0.05, 0.1]}}, 'RandomForestClassifier': <class 'sklearn.ensemble.forest.RandomForestClassifier'>, 'SVC': <class 'sklearn.svm.classes.SVC'>, 'X': <1578627x1000 sparse matrix of type '<type 'nump...ored elements in Compressed Sparse Column format>, 'XGBClassifier': <class 'xgboost.sklearn.XGBClassifier'>, ...}\n        self.user_ns = {'ExtraTreesClassifier': <class 'sklearn.ensemble.forest.ExtraTreesClassifier'>, 'GradientBoostingClassifier': <class 'sklearn.ensemble.gradient_boosting.GradientBoostingClassifier'>, 'GridSearchCV': <class 'sklearn.grid_search.GridSearchCV'>, 'In': ['', u\"get_ipython().magic(u'load_ext autoreload')\\nget_ipython().magic(u'autoreload 2')\", u'from sklearn import datasets\\nfrom sklearn.cro...port json\\n\\nfrom helpers.utils import load_data', u'X = np.load(\"data/MaskDataCorrected.npz\")[\\'X\\'][()]', u'head(X)', u'X[1:3, 2:4]', u'X[1:3]', u'X[:, 1:3]', u'X[:100, 1:3]', u'x = X[:100, 1:3]', u'Y = np.load(\"data/MaskDataCorrected.npz\")[\\'y\\'][()]', u'y', u'Y', u'Y[:100]', u'x = X[:100, 1:3]\\ny = Y[:100]', u'x.shape', u'y.shape', u'PARAM_GRID = {\\n#     \\'RandomForestClassifier...:(\\'linear\\', \\'rbf\\'), \\'C\\':[1, 5, 10]}    \\n}', u\"models = {\\n#     'RandomForestClassifier' : R...r(),\\n    'XGBClassifier' : XGBClassifier()\\n\\n}\", u'random_state = 30', ...], 'Out': {5: <2x2 sparse matrix of type '<type 'numpy.uint8'>...ored elements in Compressed Sparse Column format>, 6: <2x1000 sparse matrix of type '<type 'numpy.uint...ored elements in Compressed Sparse Column format>, 7: <1578627x2 sparse matrix of type '<type 'numpy.u...ored elements in Compressed Sparse Column format>, 8: <100x2 sparse matrix of type '<type 'numpy.uint8...ored elements in Compressed Sparse Column format>, 12: array([-1, -1, -1, ...,  1,  0,  1]), 13: array([-1, -1, -1, -1, -1, -1, -1, -1, -1, -1, -... -1, -1, -1, -1, -1, -1, -1, -1, -1, -1, -1, -1]), 15: (100, 2), 16: (100,)}, 'PARAM_GRID': {'XGBClassifier': {'colsample_bytree': [0.6], 'eval_metric': ['auc'], 'gamma': [0], 'learning_rate': [0.1, 0.2], 'max_depth': [11], 'n_estimators': [1000], 'nthread': [-1], 'objective': ['binary:logistic'], 'subsample': [0.05, 0.1]}}, 'RandomForestClassifier': <class 'sklearn.ensemble.forest.RandomForestClassifier'>, 'SVC': <class 'sklearn.svm.classes.SVC'>, 'X': <1578627x1000 sparse matrix of type '<type 'nump...ored elements in Compressed Sparse Column format>, 'XGBClassifier': <class 'xgboost.sklearn.XGBClassifier'>, ...}\n   2886             finally:\n   2887                 # Reset our crash handler in place\n   2888                 sys.excepthook = old_excepthook\n   2889         except SystemExit as e:\n\n...........................................................................\n/Users/DanielMinsuKim/Dropbox/sentiment/python/<ipython-input-24-3ce533a5e5fe> in <module>()\n      1 \n      2 for model_name, model in models.items():\n      3     \n      4     print(\"running %s\" %model_name)\n----> 5     clf = GridSearchCV(model, PARAM_GRID[model_name], cv=12, n_jobs=-1, scoring=\"roc_auc\")\n      6     pred = clf.fit(x, y)\n      7     with open(\"cache/models/%s.pkl\" %model_name, 'wb') as f:\n      8         pickle.dump(pred, f, pickle.HIGHEST_PROTOCOL)\n      9         \n     10     saved_params[model_name] = {\n     11         \"score\" : clf.best_score_,\n\n...........................................................................\n/Library/Frameworks/Python.framework/Versions/2.7/lib/python2.7/site-packages/sklearn/grid_search.py in fit(self=GridSearchCV(cv=12, error_score='raise',\n       ..._jobs', refit=True, scoring='roc_auc', verbose=0), X=<100x2 sparse matrix of type '<type 'numpy.uint8...ored elements in Compressed Sparse Column format>, y=array([-1, -1, -1, -1, -1, -1, -1, -1, -1, -1, -... -1, -1, -1, -1, -1, -1, -1, -1, -1, -1, -1, -1]))\n    799         y : array-like, shape = [n_samples] or [n_samples, n_output], optional\n    800             Target relative to X for classification or regression;\n    801             None for unsupervised learning.\n    802 \n    803         \"\"\"\n--> 804         return self._fit(X, y, ParameterGrid(self.param_grid))\n        self._fit = <bound method GridSearchCV._fit of GridSearchCV(...jobs', refit=True, scoring='roc_auc', verbose=0)>\n        X = <100x2 sparse matrix of type '<type 'numpy.uint8...ored elements in Compressed Sparse Column format>\n        y = array([-1, -1, -1, -1, -1, -1, -1, -1, -1, -1, -... -1, -1, -1, -1, -1, -1, -1, -1, -1, -1, -1, -1])\n        self.param_grid = {'colsample_bytree': [0.6], 'eval_metric': ['auc'], 'gamma': [0], 'learning_rate': [0.1, 0.2], 'max_depth': [11], 'n_estimators': [1000], 'nthread': [-1], 'objective': ['binary:logistic'], 'subsample': [0.05, 0.1]}\n    805 \n    806 \n    807 class RandomizedSearchCV(BaseSearchCV):\n    808     \"\"\"Randomized search on hyper parameters.\n\n...........................................................................\n/Library/Frameworks/Python.framework/Versions/2.7/lib/python2.7/site-packages/sklearn/grid_search.py in _fit(self=GridSearchCV(cv=12, error_score='raise',\n       ..._jobs', refit=True, scoring='roc_auc', verbose=0), X=<100x2 sparse matrix of type '<type 'numpy.uint8... stored elements in Compressed Sparse Row format>, y=array([-1, -1, -1, -1, -1, -1, -1, -1, -1, -1, -... -1, -1, -1, -1, -1, -1, -1, -1, -1, -1, -1, -1]), parameter_iterable=<sklearn.grid_search.ParameterGrid object>)\n    548         )(\n    549             delayed(_fit_and_score)(clone(base_estimator), X, y, self.scorer_,\n    550                                     train, test, self.verbose, parameters,\n    551                                     self.fit_params, return_parameters=True,\n    552                                     error_score=self.error_score)\n--> 553                 for parameters in parameter_iterable\n        parameters = undefined\n        parameter_iterable = <sklearn.grid_search.ParameterGrid object>\n    554                 for train, test in cv)\n    555 \n    556         # Out is a list of triplet: score, estimator, n_test_samples\n    557         n_fits = len(out)\n\n...........................................................................\n/Library/Frameworks/Python.framework/Versions/2.7/lib/python2.7/site-packages/sklearn/externals/joblib/parallel.py in __call__(self=Parallel(n_jobs=-1), iterable=<generator object <genexpr>>)\n    807             if pre_dispatch == \"all\" or n_jobs == 1:\n    808                 # The iterable was consumed all at once by the above for loop.\n    809                 # No need to wait for async callbacks to trigger to\n    810                 # consumption.\n    811                 self._iterating = False\n--> 812             self.retrieve()\n        self.retrieve = <bound method Parallel.retrieve of Parallel(n_jobs=-1)>\n    813             # Make sure that we get a last message telling us we are done\n    814             elapsed_time = time.time() - self._start_time\n    815             self._print('Done %3i out of %3i | elapsed: %s finished',\n    816                         (len(self._output), len(self._output),\n\n---------------------------------------------------------------------------\nSub-process traceback:\n---------------------------------------------------------------------------\nValueError                                         Tue Apr 26 17:30:23 2016\nPID: 2681Python 2.7.10: /Library/Frameworks/Python.framework/Versions/2.7/Resources/Python.app/Contents/MacOS/Python\n...........................................................................\n/Library/Frameworks/Python.framework/Versions/2.7/lib/python2.7/site-packages/sklearn/externals/joblib/parallel.pyc in __call__(self=<sklearn.externals.joblib.parallel.BatchedCalls object>)\n     67     def __init__(self, iterator_slice):\n     68         self.items = list(iterator_slice)\n     69         self._size = len(self.items)\n     70 \n     71     def __call__(self):\n---> 72         return [func(*args, **kwargs) for func, args, kwargs in self.items]\n     73 \n     74     def __len__(self):\n     75         return self._size\n     76 \n\n...........................................................................\n/Library/Frameworks/Python.framework/Versions/2.7/lib/python2.7/site-packages/sklearn/cross_validation.pyc in _fit_and_score(estimator=XGBClassifier(base_score=0.5, colsample_bylevel=...e_pos_weight=1, seed=0, silent=True, subsample=1), X=<100x2 sparse matrix of type '<type 'numpy.uint8... stored elements in Compressed Sparse Row format>, y=array([-1, -1, -1, -1, -1, -1, -1, -1, -1, -1, -... -1, -1, -1, -1, -1, -1, -1, -1, -1, -1, -1, -1]), scorer=make_scorer(roc_auc_score, needs_threshold=True), train=array([ 9, 10, 11, 12, 13, 14, 15, 16, 17, 18, 1..., 90, 91, 92, 93,\n       94, 95, 96, 97, 98, 99]), test=array([0, 1, 2, 3, 4, 5, 6, 7, 8]), verbose=0, parameters={'colsample_bytree': 0.6, 'eval_metric': 'auc', 'gamma': 0, 'learning_rate': 0.1, 'max_depth': 11, 'n_estimators': 1000, 'nthread': -1, 'objective': 'binary:logistic', 'subsample': 0.05}, fit_params={}, return_train_score=False, return_parameters=True, error_score='raise')\n   1515     fit_params = fit_params if fit_params is not None else {}\n   1516     fit_params = dict([(k, _index_param_value(X, v, train))\n   1517                       for k, v in fit_params.items()])\n   1518 \n   1519     if parameters is not None:\n-> 1520         estimator.set_params(**parameters)\n   1521 \n   1522     start_time = time.time()\n   1523 \n   1524     X_train, y_train = _safe_split(estimator, X, y, train)\n\n...........................................................................\n/Library/Frameworks/Python.framework/Versions/2.7/lib/python2.7/site-packages/sklearn/base.pyc in set_params(self=XGBClassifier(base_score=0.5, colsample_bylevel=...e_pos_weight=1, seed=0, silent=True, subsample=1), **params={'colsample_bytree': 0.6, 'eval_metric': 'auc', 'gamma': 0, 'learning_rate': 0.1, 'max_depth': 11, 'n_estimators': 1000, 'nthread': -1, 'objective': 'binary:logistic', 'subsample': 0.05})\n    265                 # simple objects case\n    266                 if key not in valid_params:\n    267                     raise ValueError('Invalid parameter %s for estimator %s. '\n    268                                      'Check the list of available parameters '\n    269                                      'with `estimator.get_params().keys()`.' %\n--> 270                                      (key, self.__class__.__name__))\n    271                 setattr(self, key, value)\n    272         return self\n    273 \n    274     def __repr__(self):\n\nValueError: Invalid parameter eval_metric for estimator XGBClassifier. Check the list of available parameters with `estimator.get_params().keys()`.\n___________________________________________________________________________"
     ]
    }
   ],
   "source": [
    "for model_name, model in models.items():\n",
    "    \n",
    "    print(\"running %s\" %model_name)\n",
    "    clf = GridSearchCV(model, PARAM_GRID[model_name], cv=12, n_jobs=-1, scoring=\"roc_auc\")\n",
    "    pred = clf.fit(x, y)\n",
    "    with open(\"cache/models/%s.pkl\" %model_name, 'wb') as f:\n",
    "        pickle.dump(pred, f, pickle.HIGHEST_PROTOCOL)\n",
    "        \n",
    "    saved_params[model_name] = {\n",
    "        \"score\" : clf.best_score_,\n",
    "        \"params\" : clf.best_params_\n",
    "    }\n",
    "    print(clf.best_score_)"
   ]
  },
  {
   "cell_type": "code",
   "execution_count": 74,
   "metadata": {
    "collapsed": true
   },
   "outputs": [],
   "source": [
    "with open(\"saved_params.json\", 'w') as f: json.dump(saved_params, f, indent=4)"
   ]
  },
  {
   "cell_type": "code",
   "execution_count": 364,
   "metadata": {
    "collapsed": false
   },
   "outputs": [],
   "source": [
    "with open('report/report0.json') as f:\n",
    "    data = json.load(f)"
   ]
  },
  {
   "cell_type": "code",
   "execution_count": 368,
   "metadata": {
    "collapsed": false
   },
   "outputs": [],
   "source": [
    "with open(\"report/report0.json\", mode='w') as f:\n",
    "    json.dump([], f)"
   ]
  },
  {
   "cell_type": "code",
   "execution_count": 369,
   "metadata": {
    "collapsed": true
   },
   "outputs": [],
   "source": [
    "with open(\"report/report0.json\", mode='r') as feedsjson:\n",
    "        feeds = json.load(feedsjson)"
   ]
  },
  {
   "cell_type": "code",
   "execution_count": 374,
   "metadata": {
    "collapsed": false
   },
   "outputs": [],
   "source": [
    "with open(\"report/report0.json\", mode='w') as feedsjson:\n",
    "    entry = {'name': \"args.name\", 'url': \"args.url\"}\n",
    "    feeds.append(entry)\n",
    "    json.dump(feeds, feedsjson)"
   ]
  },
  {
   "cell_type": "code",
   "execution_count": 366,
   "metadata": {
    "collapsed": false
   },
   "outputs": [
    {
     "ename": "AttributeError",
     "evalue": "'unicode' object has no attribute 'update'",
     "output_type": "error",
     "traceback": [
      "\u001b[0;31m---------------------------------------------------------------------------\u001b[0m",
      "\u001b[0;31mAttributeError\u001b[0m                            Traceback (most recent call last)",
      "\u001b[0;32m<ipython-input-366-cfc6ac020ea2>\u001b[0m in \u001b[0;36m<module>\u001b[0;34m()\u001b[0m\n\u001b[1;32m      1\u001b[0m \u001b[0ma_dict\u001b[0m \u001b[0;34m=\u001b[0m \u001b[0;34m{\u001b[0m\u001b[0;34m'name'\u001b[0m \u001b[0;34m:\u001b[0m \u001b[0;34m'minsu'\u001b[0m\u001b[0;34m}\u001b[0m\u001b[0;34m\u001b[0m\u001b[0m\n\u001b[0;32m----> 2\u001b[0;31m \u001b[0mdata\u001b[0m\u001b[0;34m.\u001b[0m\u001b[0mupdate\u001b[0m\u001b[0;34m(\u001b[0m\u001b[0mstr\u001b[0m\u001b[0;34m(\u001b[0m\u001b[0ma_dict\u001b[0m\u001b[0;34m)\u001b[0m\u001b[0;34m)\u001b[0m\u001b[0;34m\u001b[0m\u001b[0m\n\u001b[0m\u001b[1;32m      3\u001b[0m \u001b[0;34m\u001b[0m\u001b[0m\n\u001b[1;32m      4\u001b[0m \u001b[0;32mwith\u001b[0m \u001b[0mopen\u001b[0m\u001b[0;34m(\u001b[0m\u001b[0;34m'report/report0.json'\u001b[0m\u001b[0;34m,\u001b[0m \u001b[0;34m'w'\u001b[0m\u001b[0;34m)\u001b[0m \u001b[0;32mas\u001b[0m \u001b[0mf\u001b[0m\u001b[0;34m:\u001b[0m\u001b[0;34m\u001b[0m\u001b[0m\n\u001b[1;32m      5\u001b[0m     \u001b[0mjson\u001b[0m\u001b[0;34m.\u001b[0m\u001b[0mdump\u001b[0m\u001b[0;34m(\u001b[0m\u001b[0mdata\u001b[0m\u001b[0;34m,\u001b[0m \u001b[0mf\u001b[0m\u001b[0;34m)\u001b[0m\u001b[0;34m\u001b[0m\u001b[0m\n",
      "\u001b[0;31mAttributeError\u001b[0m: 'unicode' object has no attribute 'update'"
     ]
    }
   ],
   "source": [
    "a_dict = {'name' : 'minsu'}\n",
    "data.update(str(a_dict))\n",
    "\n",
    "with open('report/report0.json', 'w') as f:\n",
    "    json.dump(data, f)"
   ]
  },
  {
   "cell_type": "code",
   "execution_count": 379,
   "metadata": {
    "collapsed": true
   },
   "outputs": [],
   "source": [
    "from time import gmtime, strftime\n",
    "import time"
   ]
  },
  {
   "cell_type": "code",
   "execution_count": 386,
   "metadata": {
    "collapsed": false
   },
   "outputs": [
    {
     "data": {
      "text/plain": [
       "1461793411"
      ]
     },
     "execution_count": 386,
     "metadata": {},
     "output_type": "execute_result"
    }
   ],
   "source": [
    "int(time.time())"
   ]
  },
  {
   "cell_type": "code",
   "execution_count": 388,
   "metadata": {
    "collapsed": false
   },
   "outputs": [
    {
     "data": {
      "text/plain": [
       "'good 10'"
      ]
     },
     "execution_count": 388,
     "metadata": {},
     "output_type": "execute_result"
    }
   ],
   "source": [
    "\"good %s\" %10"
   ]
  },
  {
   "cell_type": "code",
   "execution_count": 391,
   "metadata": {
    "collapsed": true
   },
   "outputs": [],
   "source": [
    "name_report = \"report_%s.json\" %int(time.time())"
   ]
  },
  {
   "cell_type": "code",
   "execution_count": 392,
   "metadata": {
    "collapsed": false
   },
   "outputs": [
    {
     "data": {
      "text/plain": [
       "'report_1461793508.json'"
      ]
     },
     "execution_count": 392,
     "metadata": {},
     "output_type": "execute_result"
    }
   ],
   "source": [
    "name_report"
   ]
  },
  {
   "cell_type": "code",
   "execution_count": 406,
   "metadata": {
    "collapsed": false
   },
   "outputs": [
    {
     "data": {
      "text/plain": [
       "'nice yo ho 11'"
      ]
     },
     "execution_count": 406,
     "metadata": {},
     "output_type": "execute_result"
    }
   ],
   "source": [
    "\"nice %s %s %s\" %(\"yo\", 'ho', 11)"
   ]
  },
  {
   "cell_type": "code",
   "execution_count": 608,
   "metadata": {
    "collapsed": true
   },
   "outputs": [],
   "source": [
    "model_dic = {\n",
    "\n",
    "    \"randomForest\" : RandomForestClassifier(n_jobs=-1, n_estimators=1000, max_depth=10)\n",
    "\n",
    "}"
   ]
  },
  {
   "cell_type": "code",
   "execution_count": 613,
   "metadata": {
    "collapsed": false
   },
   "outputs": [
    {
     "name": "stdout",
     "output_type": "stream",
     "text": [
      "randomForest\n",
      "RandomForestClassifier(bootstrap=True, class_weight=None, criterion='gini',\n",
      "            max_depth=10, max_features='auto', max_leaf_nodes=None,\n",
      "            min_samples_leaf=1, min_samples_split=2,\n",
      "            min_weight_fraction_leaf=0.0, n_estimators=1000, n_jobs=-1,\n",
      "            oob_score=False, random_state=None, verbose=0,\n",
      "            warm_start=False)\n"
     ]
    }
   ],
   "source": [
    "for key, item in model_dic.items():\n",
    "    print(key)\n",
    "    print(item)"
   ]
  },
  {
   "cell_type": "code",
   "execution_count": null,
   "metadata": {
    "collapsed": true
   },
   "outputs": [],
   "source": []
  }
 ],
 "metadata": {
  "kernelspec": {
   "display_name": "Python 2",
   "language": "python",
   "name": "python2"
  },
  "language_info": {
   "codemirror_mode": {
    "name": "ipython",
    "version": 2
   },
   "file_extension": ".py",
   "mimetype": "text/x-python",
   "name": "python",
   "nbconvert_exporter": "python",
   "pygments_lexer": "ipython2",
   "version": "2.7.10"
  }
 },
 "nbformat": 4,
 "nbformat_minor": 0
}
